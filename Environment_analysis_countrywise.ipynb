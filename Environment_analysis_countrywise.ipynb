{
 "cells": [
  {
   "cell_type": "markdown",
   "id": "d4ad4b37",
   "metadata": {},
   "source": [
    "# Analysis of Environemental Health - Country Wise\n",
    "\n",
    "## Data from: https://search.earthdata.nasa.gov/search"
   ]
  },
  {
   "cell_type": "markdown",
   "id": "0d0fb0fa",
   "metadata": {},
   "source": [
    "### The PMD index provides information about the air quality of a specific country by measuring the presence of fine particulate matter (PM2.5), which consists of dust particles smaller than 2.5 microns in diameter.\n",
    "\n",
    "### The categorize_pmd() function assigns air quality categories based on predefined PMD thresholds:\n",
    "\n",
    "#### PMD < 15: Green (Good) – Indicates good air quality with minimal health risks. \n",
    "#### 15 ≤ PMD ≤ 50: Orange (Moderate) – Represents moderate air quality with potential health concerns for sensitive groups. \n",
    "#### PMD > 50: Red (Severe) – Reflects poor air quality, posing significant health risks for the general population.\n",
    "\n"
   ]
  },
  {
   "cell_type": "code",
   "execution_count": 17,
   "id": "51e54518",
   "metadata": {},
   "outputs": [
    {
     "data": {
      "application/vnd.plotly.v1+json": {
       "config": {
        "plotlyServerURL": "https://plot.ly"
       },
       "data": [
        {
         "hovertemplate": "PMD_Level=Moderate<br>Country=%{x}<br>Mean PMD=%{marker.size}<extra></extra>",
         "legendgroup": "Moderate",
         "marker": {
          "color": "orange",
          "size": [
           29.471169311494698,
           33.1058829920747,
           36.3497210386706,
           35.8773332991086,
           45.542036574608844,
           37.601137431966194,
           19.644566957630403,
           32.777349884653404,
           32.3839090145561,
           36.03577758224535,
           26.9420346156713,
           23.42088560904905,
           17.58594429882085,
           39.62703409076795,
           44.03781484718125,
           25.48494504741765,
           35.5261974922311,
           31.3277109697848,
           41.03223889269305,
           44.0927441407904,
           37.35114146953125,
           17.6809647656747,
           27.21160126736885,
           37.146208290388046,
           39.355981433310305,
           31.2452701220028,
           41.80081252834005,
           32.4479380398704,
           33.72088030796115,
           37.76438293774965,
           41.0072311716539,
           16.982142594236848,
           25.7806190095687,
           24.88538583764595,
           32.075618497366,
           19.12359637229595,
           39.1145395821826,
           22.5051747068978,
           33.16936101293615,
           33.36319607888825,
           26.8897730859279,
           45.589510489375996,
           44.54467593001285,
           23.94149255964,
           20.365094001509497,
           45.9704185504595,
           38.62174816693906,
           42.9096636729514,
           38.98860290835459,
           33.0354576270925,
           23.704554588258397,
           44.404302161934254,
           32.84154148362915,
           22.7408366333407,
           49.5423667197228,
           42.5474557876325,
           47.3551384366179,
           30.419553228122098,
           24.4093924457955,
           33.5719743895919,
           26.10656593534085,
           16.97579922149845,
           17.8051497956298,
           17.687277014927048,
           34.26134786728515,
           49.553542901259,
           40.7990104015624,
           19.78611579031055,
           45.0626170195679,
           17.8042036026938,
           42.7306185737476,
           45.9630310094993,
           38.14340314916045,
           25.0650313574729,
           22.15479671865355,
           16.832338156397647,
           22.414351243534803,
           18.8033254897908,
           38.899387747443555,
           28.062800570688502,
           23.3848095571177,
           40.566030560586555,
           31.1520827933727,
           26.6334946022316,
           30.4515760544212,
           33.73119561322355,
           22.748146102786748,
           46.16003206504125,
           42.48368555439595,
           43.1520853739852,
           38.14971440048705,
           35.50294093467315,
           15.4836141696684,
           19.361812267827652,
           37.3832901729185,
           49.28930394376785,
           27.0385324368109,
           29.26903153399345,
           44.660427058265896,
           20.7697293121469,
           17.68021350365015,
           47.758727513527504,
           46.6629871161627,
           38.9629740187809,
           24.64437017314265,
           28.354720163098,
           34.37801976283865,
           29.15128220940165
          ],
          "sizemode": "area",
          "sizeref": 0.24426363649591873,
          "symbol": "circle"
         },
         "mode": "markers",
         "name": "Moderate",
         "orientation": "v",
         "showlegend": true,
         "type": "scatter",
         "x": [
          "Afghanistan",
          "Albania",
          "Angola",
          "Antigua and Barbuda",
          "Argentina",
          "Bahamas",
          "Bangladesh",
          "Barbados",
          "Belize",
          "Benin",
          "Bhutan",
          "Bolivia",
          "Bosnia and Herzegovina",
          "Brazil",
          "Burkina Faso",
          "Cabo Verde",
          "Cambodia",
          "Central African Republic",
          "Chad",
          "Chile",
          "Colombia",
          "Cote d'Ivoire",
          "Croatia",
          "Cuba",
          "Cyprus",
          "Czech Republic",
          "Dem. Rep. Congo",
          "Dominica",
          "Dominican Republic",
          "Ecuador",
          "El Salvador",
          "Equatorial Guinea",
          "Eritrea",
          "Fiji",
          "Gambia",
          "Georgia",
          "Greece",
          "Grenada",
          "Guatemala",
          "Guinea",
          "Guinea-Bissau",
          "Haiti",
          "Honduras",
          "Hungary",
          "Indonesia",
          "Israel",
          "Jamaica",
          "Kenya",
          "Kiribati",
          "Laos",
          "Latvia",
          "Liberia",
          "Lithuania",
          "Malaysia",
          "Maldives",
          "Mali",
          "Malta",
          "Marshall Islands",
          "Mauritius",
          "Mexico",
          "Micronesia",
          "Moldova",
          "Myanmar",
          "Namibia",
          "Nauru",
          "Nicaragua",
          "Niger",
          "Nigeria",
          "Niue",
          "North Korea",
          "Palau",
          "Papua New Guinea",
          "Peru",
          "Philippines",
          "Poland",
          "Republic of Congo",
          "Romania",
          "Russia",
          "Rwanda",
          "Saint Lucia",
          "Saint Vincent and the Grenadines",
          "Samoa",
          "Sao Tome and Principe",
          "Senegal",
          "Seychelles",
          "Sierra Leone",
          "Slovakia",
          "Slovenia",
          "Solomon Islands",
          "South Korea",
          "South Sudan",
          "Sri Lanka",
          "Sudan",
          "Suriname",
          "Taiwan",
          "Tanzania",
          "Thailand",
          "Togo",
          "Tonga",
          "Trinidad and Tobago",
          "Turkey",
          "Tuvalu",
          "Uganda",
          "Vanuatu",
          "Venezuela",
          "Viet Nam",
          "Zambia",
          "Zimbabwe"
         ],
         "xaxis": "x",
         "y": [
          29.471169311494698,
          33.1058829920747,
          36.3497210386706,
          35.8773332991086,
          45.542036574608844,
          37.601137431966194,
          19.644566957630403,
          32.777349884653404,
          32.3839090145561,
          36.03577758224535,
          26.9420346156713,
          23.42088560904905,
          17.58594429882085,
          39.62703409076795,
          44.03781484718125,
          25.48494504741765,
          35.5261974922311,
          31.3277109697848,
          41.03223889269305,
          44.0927441407904,
          37.35114146953125,
          17.6809647656747,
          27.21160126736885,
          37.146208290388046,
          39.355981433310305,
          31.2452701220028,
          41.80081252834005,
          32.4479380398704,
          33.72088030796115,
          37.76438293774965,
          41.0072311716539,
          16.982142594236848,
          25.7806190095687,
          24.88538583764595,
          32.075618497366,
          19.12359637229595,
          39.1145395821826,
          22.5051747068978,
          33.16936101293615,
          33.36319607888825,
          26.8897730859279,
          45.589510489375996,
          44.54467593001285,
          23.94149255964,
          20.365094001509497,
          45.9704185504595,
          38.62174816693906,
          42.9096636729514,
          38.98860290835459,
          33.0354576270925,
          23.704554588258397,
          44.404302161934254,
          32.84154148362915,
          22.7408366333407,
          49.5423667197228,
          42.5474557876325,
          47.3551384366179,
          30.419553228122098,
          24.4093924457955,
          33.5719743895919,
          26.10656593534085,
          16.97579922149845,
          17.8051497956298,
          17.687277014927048,
          34.26134786728515,
          49.553542901259,
          40.7990104015624,
          19.78611579031055,
          45.0626170195679,
          17.8042036026938,
          42.7306185737476,
          45.9630310094993,
          38.14340314916045,
          25.0650313574729,
          22.15479671865355,
          16.832338156397647,
          22.414351243534803,
          18.8033254897908,
          38.899387747443555,
          28.062800570688502,
          23.3848095571177,
          40.566030560586555,
          31.1520827933727,
          26.6334946022316,
          30.4515760544212,
          33.73119561322355,
          22.748146102786748,
          46.16003206504125,
          42.48368555439595,
          43.1520853739852,
          38.14971440048705,
          35.50294093467315,
          15.4836141696684,
          19.361812267827652,
          37.3832901729185,
          49.28930394376785,
          27.0385324368109,
          29.26903153399345,
          44.660427058265896,
          20.7697293121469,
          17.68021350365015,
          47.758727513527504,
          46.6629871161627,
          38.9629740187809,
          24.64437017314265,
          28.354720163098,
          34.37801976283865,
          29.15128220940165
         ],
         "yaxis": "y"
        },
        {
         "hovertemplate": "PMD_Level=Good<br>Country=%{x}<br>Mean PMD=%{marker.size}<extra></extra>",
         "legendgroup": "Good",
         "marker": {
          "color": "green",
          "size": [
           8.860596978243235,
           6.825631621580155,
           8.75933456849061,
           6.9251671899210905,
           11.0031540734754,
           12.55566728464725,
           9.746346625844485,
           7.317429783151205,
           14.5619206333744,
           5.821924236527,
           12.458115499204,
           7.372074171839635,
           5.143891098159456,
           9.240098297037925,
           11.5388248974777,
           10.085929978868425,
           9.49268571890417,
           12.41918404189795,
           13.480429499979,
           10.38840200767332,
           9.6802919422612,
           13.98866035877375,
           1.6549676311339199,
           14.505144556797799,
           6.091737378480795,
           14.06745176044495,
           1.1426916494707,
           4.750827730605735,
           8.926363207611391,
           6.39388581316544,
           5.496696651431314,
           1.0151594870176466,
           5.447958621589745,
           10.972278233208701,
           11.527646380556465,
           13.4332399134092
          ],
          "sizemode": "area",
          "sizeref": 0.24426363649591873,
          "symbol": "circle"
         },
         "mode": "markers",
         "name": "Good",
         "orientation": "v",
         "showlegend": true,
         "type": "scatter",
         "x": [
          "Algeria",
          "Armenia",
          "Belarus",
          "Botswana",
          "Bulgaria",
          "Cameroon",
          "China",
          "Djibouti",
          "Eswatini",
          "Gabon",
          "Ghana",
          "Guyana",
          "India",
          "Iran",
          "Jordan",
          "Kazakhstan",
          "Kuwait",
          "Kyrgyzstan",
          "Lebanon",
          "Lesotho",
          "Libya",
          "Mauritania",
          "Mongolia",
          "Montenegro",
          "Morocco",
          "Nepal",
          "North Macedonia",
          "Pakistan",
          "Serbia",
          "South Africa",
          "State of Palestine",
          "Syria",
          "Tajikistan",
          "Tunisia",
          "Ukraine",
          "Yemen"
         ],
         "xaxis": "x",
         "y": [
          8.860596978243235,
          6.825631621580155,
          8.75933456849061,
          6.9251671899210905,
          11.0031540734754,
          12.55566728464725,
          9.746346625844485,
          7.317429783151205,
          14.5619206333744,
          5.821924236527,
          12.458115499204,
          7.372074171839635,
          5.143891098159456,
          9.240098297037925,
          11.5388248974777,
          10.085929978868425,
          9.49268571890417,
          12.41918404189795,
          13.480429499979,
          10.38840200767332,
          9.6802919422612,
          13.98866035877375,
          1.6549676311339199,
          14.505144556797799,
          6.091737378480795,
          14.06745176044495,
          1.1426916494707,
          4.750827730605735,
          8.926363207611391,
          6.39388581316544,
          5.496696651431314,
          1.0151594870176466,
          5.447958621589745,
          10.972278233208701,
          11.527646380556465,
          13.4332399134092
         ],
         "yaxis": "y"
        },
        {
         "hovertemplate": "PMD_Level=Severe<br>Country=%{x}<br>Mean PMD=%{marker.size}<extra></extra>",
         "legendgroup": "Severe",
         "marker": {
          "color": "red",
          "size": [
           72.2341998806659,
           94.63833085709365,
           54.497623882561456,
           50.564961469738705,
           82.48635523810125,
           59.2173779587344,
           51.46371644718225,
           80.43899780290249,
           50.4588314790829,
           62.8406845290352,
           50.0811949713553,
           56.09193975514275,
           60.8691288525451,
           58.89946689849445,
           87.10456549453326,
           63.750291778899,
           52.49689292095185,
           69.5141968103635,
           97.7054545983675,
           69.05416154349464,
           51.047948704560355,
           73.0994870645158,
           61.09127666059155,
           53.6601758108217,
           56.697987553235706,
           54.8621452376904,
           65.2067113799825,
           53.5892301374475,
           96.1746862074294,
           83.8715279651221,
           50.01201109234485,
           52.48354093821515,
           66.37968441555151,
           52.2229685560076,
           80.10339638864676,
           52.11240398441235,
           75.7582162400159,
           66.37972993717915,
           89.89923624883579,
           67.5274054859407,
           51.426756548618556,
           57.9823426731192,
           59.915120520850195,
           62.79171855806965
          ],
          "sizemode": "area",
          "sizeref": 0.24426363649591873,
          "symbol": "circle"
         },
         "mode": "markers",
         "name": "Severe",
         "orientation": "v",
         "showlegend": true,
         "type": "scatter",
         "x": [
          "Andorra",
          "Australia",
          "Austria",
          "Belgium",
          "Bermuda",
          "Brunei Darussalam",
          "Burundi",
          "Canada",
          "Comoros",
          "Cook Islands",
          "Costa Rica",
          "Denmark",
          "Estonia",
          "Ethiopia",
          "Finland",
          "France",
          "Germany",
          "Greenland",
          "Iceland",
          "Ireland",
          "Italy",
          "Japan",
          "Luxembourg",
          "Madagascar",
          "Malawi",
          "Monaco",
          "Mozambique",
          "Netherlands",
          "New Zealand",
          "Norway",
          "Panama",
          "Paraguay",
          "Portugal",
          "Saint Kitts and Nevis",
          "San Marino",
          "Singapore",
          "Somalia",
          "Spain",
          "Sweden",
          "Switzerland",
          "Timor-Leste",
          "United Kingdom",
          "United States of America",
          "Uruguay"
         ],
         "xaxis": "x",
         "y": [
          72.2341998806659,
          94.63833085709365,
          54.497623882561456,
          50.564961469738705,
          82.48635523810125,
          59.2173779587344,
          51.46371644718225,
          80.43899780290249,
          50.4588314790829,
          62.8406845290352,
          50.0811949713553,
          56.09193975514275,
          60.8691288525451,
          58.89946689849445,
          87.10456549453326,
          63.750291778899,
          52.49689292095185,
          69.5141968103635,
          97.7054545983675,
          69.05416154349464,
          51.047948704560355,
          73.0994870645158,
          61.09127666059155,
          53.6601758108217,
          56.697987553235706,
          54.8621452376904,
          65.2067113799825,
          53.5892301374475,
          96.1746862074294,
          83.8715279651221,
          50.01201109234485,
          52.48354093821515,
          66.37968441555151,
          52.2229685560076,
          80.10339638864676,
          52.11240398441235,
          75.7582162400159,
          66.37972993717915,
          89.89923624883579,
          67.5274054859407,
          51.426756548618556,
          57.9823426731192,
          59.915120520850195,
          62.79171855806965
         ],
         "yaxis": "y"
        }
       ],
       "layout": {
        "height": 600,
        "legend": {
         "itemsizing": "constant",
         "title": {
          "text": "PMD_Level"
         },
         "tracegroupgap": 0
        },
        "template": {
         "data": {
          "bar": [
           {
            "error_x": {
             "color": "#2a3f5f"
            },
            "error_y": {
             "color": "#2a3f5f"
            },
            "marker": {
             "line": {
              "color": "#E5ECF6",
              "width": 0.5
             },
             "pattern": {
              "fillmode": "overlay",
              "size": 10,
              "solidity": 0.2
             }
            },
            "type": "bar"
           }
          ],
          "barpolar": [
           {
            "marker": {
             "line": {
              "color": "#E5ECF6",
              "width": 0.5
             },
             "pattern": {
              "fillmode": "overlay",
              "size": 10,
              "solidity": 0.2
             }
            },
            "type": "barpolar"
           }
          ],
          "carpet": [
           {
            "aaxis": {
             "endlinecolor": "#2a3f5f",
             "gridcolor": "white",
             "linecolor": "white",
             "minorgridcolor": "white",
             "startlinecolor": "#2a3f5f"
            },
            "baxis": {
             "endlinecolor": "#2a3f5f",
             "gridcolor": "white",
             "linecolor": "white",
             "minorgridcolor": "white",
             "startlinecolor": "#2a3f5f"
            },
            "type": "carpet"
           }
          ],
          "choropleth": [
           {
            "colorbar": {
             "outlinewidth": 0,
             "ticks": ""
            },
            "type": "choropleth"
           }
          ],
          "contour": [
           {
            "colorbar": {
             "outlinewidth": 0,
             "ticks": ""
            },
            "colorscale": [
             [
              0,
              "#0d0887"
             ],
             [
              0.1111111111111111,
              "#46039f"
             ],
             [
              0.2222222222222222,
              "#7201a8"
             ],
             [
              0.3333333333333333,
              "#9c179e"
             ],
             [
              0.4444444444444444,
              "#bd3786"
             ],
             [
              0.5555555555555556,
              "#d8576b"
             ],
             [
              0.6666666666666666,
              "#ed7953"
             ],
             [
              0.7777777777777778,
              "#fb9f3a"
             ],
             [
              0.8888888888888888,
              "#fdca26"
             ],
             [
              1,
              "#f0f921"
             ]
            ],
            "type": "contour"
           }
          ],
          "contourcarpet": [
           {
            "colorbar": {
             "outlinewidth": 0,
             "ticks": ""
            },
            "type": "contourcarpet"
           }
          ],
          "heatmap": [
           {
            "colorbar": {
             "outlinewidth": 0,
             "ticks": ""
            },
            "colorscale": [
             [
              0,
              "#0d0887"
             ],
             [
              0.1111111111111111,
              "#46039f"
             ],
             [
              0.2222222222222222,
              "#7201a8"
             ],
             [
              0.3333333333333333,
              "#9c179e"
             ],
             [
              0.4444444444444444,
              "#bd3786"
             ],
             [
              0.5555555555555556,
              "#d8576b"
             ],
             [
              0.6666666666666666,
              "#ed7953"
             ],
             [
              0.7777777777777778,
              "#fb9f3a"
             ],
             [
              0.8888888888888888,
              "#fdca26"
             ],
             [
              1,
              "#f0f921"
             ]
            ],
            "type": "heatmap"
           }
          ],
          "heatmapgl": [
           {
            "colorbar": {
             "outlinewidth": 0,
             "ticks": ""
            },
            "colorscale": [
             [
              0,
              "#0d0887"
             ],
             [
              0.1111111111111111,
              "#46039f"
             ],
             [
              0.2222222222222222,
              "#7201a8"
             ],
             [
              0.3333333333333333,
              "#9c179e"
             ],
             [
              0.4444444444444444,
              "#bd3786"
             ],
             [
              0.5555555555555556,
              "#d8576b"
             ],
             [
              0.6666666666666666,
              "#ed7953"
             ],
             [
              0.7777777777777778,
              "#fb9f3a"
             ],
             [
              0.8888888888888888,
              "#fdca26"
             ],
             [
              1,
              "#f0f921"
             ]
            ],
            "type": "heatmapgl"
           }
          ],
          "histogram": [
           {
            "marker": {
             "pattern": {
              "fillmode": "overlay",
              "size": 10,
              "solidity": 0.2
             }
            },
            "type": "histogram"
           }
          ],
          "histogram2d": [
           {
            "colorbar": {
             "outlinewidth": 0,
             "ticks": ""
            },
            "colorscale": [
             [
              0,
              "#0d0887"
             ],
             [
              0.1111111111111111,
              "#46039f"
             ],
             [
              0.2222222222222222,
              "#7201a8"
             ],
             [
              0.3333333333333333,
              "#9c179e"
             ],
             [
              0.4444444444444444,
              "#bd3786"
             ],
             [
              0.5555555555555556,
              "#d8576b"
             ],
             [
              0.6666666666666666,
              "#ed7953"
             ],
             [
              0.7777777777777778,
              "#fb9f3a"
             ],
             [
              0.8888888888888888,
              "#fdca26"
             ],
             [
              1,
              "#f0f921"
             ]
            ],
            "type": "histogram2d"
           }
          ],
          "histogram2dcontour": [
           {
            "colorbar": {
             "outlinewidth": 0,
             "ticks": ""
            },
            "colorscale": [
             [
              0,
              "#0d0887"
             ],
             [
              0.1111111111111111,
              "#46039f"
             ],
             [
              0.2222222222222222,
              "#7201a8"
             ],
             [
              0.3333333333333333,
              "#9c179e"
             ],
             [
              0.4444444444444444,
              "#bd3786"
             ],
             [
              0.5555555555555556,
              "#d8576b"
             ],
             [
              0.6666666666666666,
              "#ed7953"
             ],
             [
              0.7777777777777778,
              "#fb9f3a"
             ],
             [
              0.8888888888888888,
              "#fdca26"
             ],
             [
              1,
              "#f0f921"
             ]
            ],
            "type": "histogram2dcontour"
           }
          ],
          "mesh3d": [
           {
            "colorbar": {
             "outlinewidth": 0,
             "ticks": ""
            },
            "type": "mesh3d"
           }
          ],
          "parcoords": [
           {
            "line": {
             "colorbar": {
              "outlinewidth": 0,
              "ticks": ""
             }
            },
            "type": "parcoords"
           }
          ],
          "pie": [
           {
            "automargin": true,
            "type": "pie"
           }
          ],
          "scatter": [
           {
            "fillpattern": {
             "fillmode": "overlay",
             "size": 10,
             "solidity": 0.2
            },
            "type": "scatter"
           }
          ],
          "scatter3d": [
           {
            "line": {
             "colorbar": {
              "outlinewidth": 0,
              "ticks": ""
             }
            },
            "marker": {
             "colorbar": {
              "outlinewidth": 0,
              "ticks": ""
             }
            },
            "type": "scatter3d"
           }
          ],
          "scattercarpet": [
           {
            "marker": {
             "colorbar": {
              "outlinewidth": 0,
              "ticks": ""
             }
            },
            "type": "scattercarpet"
           }
          ],
          "scattergeo": [
           {
            "marker": {
             "colorbar": {
              "outlinewidth": 0,
              "ticks": ""
             }
            },
            "type": "scattergeo"
           }
          ],
          "scattergl": [
           {
            "marker": {
             "colorbar": {
              "outlinewidth": 0,
              "ticks": ""
             }
            },
            "type": "scattergl"
           }
          ],
          "scattermapbox": [
           {
            "marker": {
             "colorbar": {
              "outlinewidth": 0,
              "ticks": ""
             }
            },
            "type": "scattermapbox"
           }
          ],
          "scatterpolar": [
           {
            "marker": {
             "colorbar": {
              "outlinewidth": 0,
              "ticks": ""
             }
            },
            "type": "scatterpolar"
           }
          ],
          "scatterpolargl": [
           {
            "marker": {
             "colorbar": {
              "outlinewidth": 0,
              "ticks": ""
             }
            },
            "type": "scatterpolargl"
           }
          ],
          "scatterternary": [
           {
            "marker": {
             "colorbar": {
              "outlinewidth": 0,
              "ticks": ""
             }
            },
            "type": "scatterternary"
           }
          ],
          "surface": [
           {
            "colorbar": {
             "outlinewidth": 0,
             "ticks": ""
            },
            "colorscale": [
             [
              0,
              "#0d0887"
             ],
             [
              0.1111111111111111,
              "#46039f"
             ],
             [
              0.2222222222222222,
              "#7201a8"
             ],
             [
              0.3333333333333333,
              "#9c179e"
             ],
             [
              0.4444444444444444,
              "#bd3786"
             ],
             [
              0.5555555555555556,
              "#d8576b"
             ],
             [
              0.6666666666666666,
              "#ed7953"
             ],
             [
              0.7777777777777778,
              "#fb9f3a"
             ],
             [
              0.8888888888888888,
              "#fdca26"
             ],
             [
              1,
              "#f0f921"
             ]
            ],
            "type": "surface"
           }
          ],
          "table": [
           {
            "cells": {
             "fill": {
              "color": "#EBF0F8"
             },
             "line": {
              "color": "white"
             }
            },
            "header": {
             "fill": {
              "color": "#C8D4E3"
             },
             "line": {
              "color": "white"
             }
            },
            "type": "table"
           }
          ]
         },
         "layout": {
          "annotationdefaults": {
           "arrowcolor": "#2a3f5f",
           "arrowhead": 0,
           "arrowwidth": 1
          },
          "autotypenumbers": "strict",
          "coloraxis": {
           "colorbar": {
            "outlinewidth": 0,
            "ticks": ""
           }
          },
          "colorscale": {
           "diverging": [
            [
             0,
             "#8e0152"
            ],
            [
             0.1,
             "#c51b7d"
            ],
            [
             0.2,
             "#de77ae"
            ],
            [
             0.3,
             "#f1b6da"
            ],
            [
             0.4,
             "#fde0ef"
            ],
            [
             0.5,
             "#f7f7f7"
            ],
            [
             0.6,
             "#e6f5d0"
            ],
            [
             0.7,
             "#b8e186"
            ],
            [
             0.8,
             "#7fbc41"
            ],
            [
             0.9,
             "#4d9221"
            ],
            [
             1,
             "#276419"
            ]
           ],
           "sequential": [
            [
             0,
             "#0d0887"
            ],
            [
             0.1111111111111111,
             "#46039f"
            ],
            [
             0.2222222222222222,
             "#7201a8"
            ],
            [
             0.3333333333333333,
             "#9c179e"
            ],
            [
             0.4444444444444444,
             "#bd3786"
            ],
            [
             0.5555555555555556,
             "#d8576b"
            ],
            [
             0.6666666666666666,
             "#ed7953"
            ],
            [
             0.7777777777777778,
             "#fb9f3a"
            ],
            [
             0.8888888888888888,
             "#fdca26"
            ],
            [
             1,
             "#f0f921"
            ]
           ],
           "sequentialminus": [
            [
             0,
             "#0d0887"
            ],
            [
             0.1111111111111111,
             "#46039f"
            ],
            [
             0.2222222222222222,
             "#7201a8"
            ],
            [
             0.3333333333333333,
             "#9c179e"
            ],
            [
             0.4444444444444444,
             "#bd3786"
            ],
            [
             0.5555555555555556,
             "#d8576b"
            ],
            [
             0.6666666666666666,
             "#ed7953"
            ],
            [
             0.7777777777777778,
             "#fb9f3a"
            ],
            [
             0.8888888888888888,
             "#fdca26"
            ],
            [
             1,
             "#f0f921"
            ]
           ]
          },
          "colorway": [
           "#636efa",
           "#EF553B",
           "#00cc96",
           "#ab63fa",
           "#FFA15A",
           "#19d3f3",
           "#FF6692",
           "#B6E880",
           "#FF97FF",
           "#FECB52"
          ],
          "font": {
           "color": "#2a3f5f"
          },
          "geo": {
           "bgcolor": "white",
           "lakecolor": "white",
           "landcolor": "#E5ECF6",
           "showlakes": true,
           "showland": true,
           "subunitcolor": "white"
          },
          "hoverlabel": {
           "align": "left"
          },
          "hovermode": "closest",
          "mapbox": {
           "style": "light"
          },
          "paper_bgcolor": "white",
          "plot_bgcolor": "#E5ECF6",
          "polar": {
           "angularaxis": {
            "gridcolor": "white",
            "linecolor": "white",
            "ticks": ""
           },
           "bgcolor": "#E5ECF6",
           "radialaxis": {
            "gridcolor": "white",
            "linecolor": "white",
            "ticks": ""
           }
          },
          "scene": {
           "xaxis": {
            "backgroundcolor": "#E5ECF6",
            "gridcolor": "white",
            "gridwidth": 2,
            "linecolor": "white",
            "showbackground": true,
            "ticks": "",
            "zerolinecolor": "white"
           },
           "yaxis": {
            "backgroundcolor": "#E5ECF6",
            "gridcolor": "white",
            "gridwidth": 2,
            "linecolor": "white",
            "showbackground": true,
            "ticks": "",
            "zerolinecolor": "white"
           },
           "zaxis": {
            "backgroundcolor": "#E5ECF6",
            "gridcolor": "white",
            "gridwidth": 2,
            "linecolor": "white",
            "showbackground": true,
            "ticks": "",
            "zerolinecolor": "white"
           }
          },
          "shapedefaults": {
           "line": {
            "color": "#2a3f5f"
           }
          },
          "ternary": {
           "aaxis": {
            "gridcolor": "white",
            "linecolor": "white",
            "ticks": ""
           },
           "baxis": {
            "gridcolor": "white",
            "linecolor": "white",
            "ticks": ""
           },
           "bgcolor": "#E5ECF6",
           "caxis": {
            "gridcolor": "white",
            "linecolor": "white",
            "ticks": ""
           }
          },
          "title": {
           "x": 0.05
          },
          "xaxis": {
           "automargin": true,
           "gridcolor": "white",
           "linecolor": "white",
           "ticks": "",
           "title": {
            "standoff": 15
           },
           "zerolinecolor": "white",
           "zerolinewidth": 2
          },
          "yaxis": {
           "automargin": true,
           "gridcolor": "white",
           "linecolor": "white",
           "ticks": "",
           "title": {
            "standoff": 15
           },
           "zerolinecolor": "white",
           "zerolinewidth": 2
          }
         }
        },
        "title": {
         "text": "Scatter Plot of mean PMD (a measure of Air Quality) for all Countries"
        },
        "width": 1000,
        "xaxis": {
         "anchor": "y",
         "domain": [
          0,
          1
         ],
         "tickangle": 90,
         "title": {
          "text": "Country"
         }
        },
        "yaxis": {
         "anchor": "x",
         "domain": [
          0,
          1
         ],
         "title": {
          "text": "Median PMD"
         }
        }
       }
      },
      "text/html": [
       "<div>                            <div id=\"b718feaa-8559-4539-b38c-861eb9258c9a\" class=\"plotly-graph-div\" style=\"height:600px; width:1000px;\"></div>            <script type=\"text/javascript\">                require([\"plotly\"], function(Plotly) {                    window.PLOTLYENV=window.PLOTLYENV || {};                                    if (document.getElementById(\"b718feaa-8559-4539-b38c-861eb9258c9a\")) {                    Plotly.newPlot(                        \"b718feaa-8559-4539-b38c-861eb9258c9a\",                        [{\"hovertemplate\":\"PMD_Level=Moderate<br>Country=%{x}<br>Mean PMD=%{marker.size}<extra></extra>\",\"legendgroup\":\"Moderate\",\"marker\":{\"color\":\"orange\",\"size\":[29.471169311494698,33.1058829920747,36.3497210386706,35.8773332991086,45.542036574608844,37.601137431966194,19.644566957630403,32.777349884653404,32.3839090145561,36.03577758224535,26.9420346156713,23.42088560904905,17.58594429882085,39.62703409076795,44.03781484718125,25.48494504741765,35.5261974922311,31.3277109697848,41.03223889269305,44.0927441407904,37.35114146953125,17.6809647656747,27.21160126736885,37.146208290388046,39.355981433310305,31.2452701220028,41.80081252834005,32.4479380398704,33.72088030796115,37.76438293774965,41.0072311716539,16.982142594236848,25.7806190095687,24.88538583764595,32.075618497366,19.12359637229595,39.1145395821826,22.5051747068978,33.16936101293615,33.36319607888825,26.8897730859279,45.589510489375996,44.54467593001285,23.94149255964,20.365094001509497,45.9704185504595,38.62174816693906,42.9096636729514,38.98860290835459,33.0354576270925,23.704554588258397,44.404302161934254,32.84154148362915,22.7408366333407,49.5423667197228,42.5474557876325,47.3551384366179,30.419553228122098,24.4093924457955,33.5719743895919,26.10656593534085,16.97579922149845,17.8051497956298,17.687277014927048,34.26134786728515,49.553542901259,40.7990104015624,19.78611579031055,45.0626170195679,17.8042036026938,42.7306185737476,45.9630310094993,38.14340314916045,25.0650313574729,22.15479671865355,16.832338156397647,22.414351243534803,18.8033254897908,38.899387747443555,28.062800570688502,23.3848095571177,40.566030560586555,31.1520827933727,26.6334946022316,30.4515760544212,33.73119561322355,22.748146102786748,46.16003206504125,42.48368555439595,43.1520853739852,38.14971440048705,35.50294093467315,15.4836141696684,19.361812267827652,37.3832901729185,49.28930394376785,27.0385324368109,29.26903153399345,44.660427058265896,20.7697293121469,17.68021350365015,47.758727513527504,46.6629871161627,38.9629740187809,24.64437017314265,28.354720163098,34.37801976283865,29.15128220940165],\"sizemode\":\"area\",\"sizeref\":0.24426363649591873,\"symbol\":\"circle\"},\"mode\":\"markers\",\"name\":\"Moderate\",\"orientation\":\"v\",\"showlegend\":true,\"x\":[\"Afghanistan\",\"Albania\",\"Angola\",\"Antigua and Barbuda\",\"Argentina\",\"Bahamas\",\"Bangladesh\",\"Barbados\",\"Belize\",\"Benin\",\"Bhutan\",\"Bolivia\",\"Bosnia and Herzegovina\",\"Brazil\",\"Burkina Faso\",\"Cabo Verde\",\"Cambodia\",\"Central African Republic\",\"Chad\",\"Chile\",\"Colombia\",\"Cote d'Ivoire\",\"Croatia\",\"Cuba\",\"Cyprus\",\"Czech Republic\",\"Dem. Rep. Congo\",\"Dominica\",\"Dominican Republic\",\"Ecuador\",\"El Salvador\",\"Equatorial Guinea\",\"Eritrea\",\"Fiji\",\"Gambia\",\"Georgia\",\"Greece\",\"Grenada\",\"Guatemala\",\"Guinea\",\"Guinea-Bissau\",\"Haiti\",\"Honduras\",\"Hungary\",\"Indonesia\",\"Israel\",\"Jamaica\",\"Kenya\",\"Kiribati\",\"Laos\",\"Latvia\",\"Liberia\",\"Lithuania\",\"Malaysia\",\"Maldives\",\"Mali\",\"Malta\",\"Marshall Islands\",\"Mauritius\",\"Mexico\",\"Micronesia\",\"Moldova\",\"Myanmar\",\"Namibia\",\"Nauru\",\"Nicaragua\",\"Niger\",\"Nigeria\",\"Niue\",\"North Korea\",\"Palau\",\"Papua New Guinea\",\"Peru\",\"Philippines\",\"Poland\",\"Republic of Congo\",\"Romania\",\"Russia\",\"Rwanda\",\"Saint Lucia\",\"Saint Vincent and the Grenadines\",\"Samoa\",\"Sao Tome and Principe\",\"Senegal\",\"Seychelles\",\"Sierra Leone\",\"Slovakia\",\"Slovenia\",\"Solomon Islands\",\"South Korea\",\"South Sudan\",\"Sri Lanka\",\"Sudan\",\"Suriname\",\"Taiwan\",\"Tanzania\",\"Thailand\",\"Togo\",\"Tonga\",\"Trinidad and Tobago\",\"Turkey\",\"Tuvalu\",\"Uganda\",\"Vanuatu\",\"Venezuela\",\"Viet Nam\",\"Zambia\",\"Zimbabwe\"],\"xaxis\":\"x\",\"y\":[29.471169311494698,33.1058829920747,36.3497210386706,35.8773332991086,45.542036574608844,37.601137431966194,19.644566957630403,32.777349884653404,32.3839090145561,36.03577758224535,26.9420346156713,23.42088560904905,17.58594429882085,39.62703409076795,44.03781484718125,25.48494504741765,35.5261974922311,31.3277109697848,41.03223889269305,44.0927441407904,37.35114146953125,17.6809647656747,27.21160126736885,37.146208290388046,39.355981433310305,31.2452701220028,41.80081252834005,32.4479380398704,33.72088030796115,37.76438293774965,41.0072311716539,16.982142594236848,25.7806190095687,24.88538583764595,32.075618497366,19.12359637229595,39.1145395821826,22.5051747068978,33.16936101293615,33.36319607888825,26.8897730859279,45.589510489375996,44.54467593001285,23.94149255964,20.365094001509497,45.9704185504595,38.62174816693906,42.9096636729514,38.98860290835459,33.0354576270925,23.704554588258397,44.404302161934254,32.84154148362915,22.7408366333407,49.5423667197228,42.5474557876325,47.3551384366179,30.419553228122098,24.4093924457955,33.5719743895919,26.10656593534085,16.97579922149845,17.8051497956298,17.687277014927048,34.26134786728515,49.553542901259,40.7990104015624,19.78611579031055,45.0626170195679,17.8042036026938,42.7306185737476,45.9630310094993,38.14340314916045,25.0650313574729,22.15479671865355,16.832338156397647,22.414351243534803,18.8033254897908,38.899387747443555,28.062800570688502,23.3848095571177,40.566030560586555,31.1520827933727,26.6334946022316,30.4515760544212,33.73119561322355,22.748146102786748,46.16003206504125,42.48368555439595,43.1520853739852,38.14971440048705,35.50294093467315,15.4836141696684,19.361812267827652,37.3832901729185,49.28930394376785,27.0385324368109,29.26903153399345,44.660427058265896,20.7697293121469,17.68021350365015,47.758727513527504,46.6629871161627,38.9629740187809,24.64437017314265,28.354720163098,34.37801976283865,29.15128220940165],\"yaxis\":\"y\",\"type\":\"scatter\"},{\"hovertemplate\":\"PMD_Level=Good<br>Country=%{x}<br>Mean PMD=%{marker.size}<extra></extra>\",\"legendgroup\":\"Good\",\"marker\":{\"color\":\"green\",\"size\":[8.860596978243235,6.825631621580155,8.75933456849061,6.9251671899210905,11.0031540734754,12.55566728464725,9.746346625844485,7.317429783151205,14.5619206333744,5.821924236527,12.458115499204,7.372074171839635,5.143891098159456,9.240098297037925,11.5388248974777,10.085929978868425,9.49268571890417,12.41918404189795,13.480429499979,10.38840200767332,9.6802919422612,13.98866035877375,1.6549676311339199,14.505144556797799,6.091737378480795,14.06745176044495,1.1426916494707,4.750827730605735,8.926363207611391,6.39388581316544,5.496696651431314,1.0151594870176466,5.447958621589745,10.972278233208701,11.527646380556465,13.4332399134092],\"sizemode\":\"area\",\"sizeref\":0.24426363649591873,\"symbol\":\"circle\"},\"mode\":\"markers\",\"name\":\"Good\",\"orientation\":\"v\",\"showlegend\":true,\"x\":[\"Algeria\",\"Armenia\",\"Belarus\",\"Botswana\",\"Bulgaria\",\"Cameroon\",\"China\",\"Djibouti\",\"Eswatini\",\"Gabon\",\"Ghana\",\"Guyana\",\"India\",\"Iran\",\"Jordan\",\"Kazakhstan\",\"Kuwait\",\"Kyrgyzstan\",\"Lebanon\",\"Lesotho\",\"Libya\",\"Mauritania\",\"Mongolia\",\"Montenegro\",\"Morocco\",\"Nepal\",\"North Macedonia\",\"Pakistan\",\"Serbia\",\"South Africa\",\"State of Palestine\",\"Syria\",\"Tajikistan\",\"Tunisia\",\"Ukraine\",\"Yemen\"],\"xaxis\":\"x\",\"y\":[8.860596978243235,6.825631621580155,8.75933456849061,6.9251671899210905,11.0031540734754,12.55566728464725,9.746346625844485,7.317429783151205,14.5619206333744,5.821924236527,12.458115499204,7.372074171839635,5.143891098159456,9.240098297037925,11.5388248974777,10.085929978868425,9.49268571890417,12.41918404189795,13.480429499979,10.38840200767332,9.6802919422612,13.98866035877375,1.6549676311339199,14.505144556797799,6.091737378480795,14.06745176044495,1.1426916494707,4.750827730605735,8.926363207611391,6.39388581316544,5.496696651431314,1.0151594870176466,5.447958621589745,10.972278233208701,11.527646380556465,13.4332399134092],\"yaxis\":\"y\",\"type\":\"scatter\"},{\"hovertemplate\":\"PMD_Level=Severe<br>Country=%{x}<br>Mean PMD=%{marker.size}<extra></extra>\",\"legendgroup\":\"Severe\",\"marker\":{\"color\":\"red\",\"size\":[72.2341998806659,94.63833085709365,54.497623882561456,50.564961469738705,82.48635523810125,59.2173779587344,51.46371644718225,80.43899780290249,50.4588314790829,62.8406845290352,50.0811949713553,56.09193975514275,60.8691288525451,58.89946689849445,87.10456549453326,63.750291778899,52.49689292095185,69.5141968103635,97.7054545983675,69.05416154349464,51.047948704560355,73.0994870645158,61.09127666059155,53.6601758108217,56.697987553235706,54.8621452376904,65.2067113799825,53.5892301374475,96.1746862074294,83.8715279651221,50.01201109234485,52.48354093821515,66.37968441555151,52.2229685560076,80.10339638864676,52.11240398441235,75.7582162400159,66.37972993717915,89.89923624883579,67.5274054859407,51.426756548618556,57.9823426731192,59.915120520850195,62.79171855806965],\"sizemode\":\"area\",\"sizeref\":0.24426363649591873,\"symbol\":\"circle\"},\"mode\":\"markers\",\"name\":\"Severe\",\"orientation\":\"v\",\"showlegend\":true,\"x\":[\"Andorra\",\"Australia\",\"Austria\",\"Belgium\",\"Bermuda\",\"Brunei Darussalam\",\"Burundi\",\"Canada\",\"Comoros\",\"Cook Islands\",\"Costa Rica\",\"Denmark\",\"Estonia\",\"Ethiopia\",\"Finland\",\"France\",\"Germany\",\"Greenland\",\"Iceland\",\"Ireland\",\"Italy\",\"Japan\",\"Luxembourg\",\"Madagascar\",\"Malawi\",\"Monaco\",\"Mozambique\",\"Netherlands\",\"New Zealand\",\"Norway\",\"Panama\",\"Paraguay\",\"Portugal\",\"Saint Kitts and Nevis\",\"San Marino\",\"Singapore\",\"Somalia\",\"Spain\",\"Sweden\",\"Switzerland\",\"Timor-Leste\",\"United Kingdom\",\"United States of America\",\"Uruguay\"],\"xaxis\":\"x\",\"y\":[72.2341998806659,94.63833085709365,54.497623882561456,50.564961469738705,82.48635523810125,59.2173779587344,51.46371644718225,80.43899780290249,50.4588314790829,62.8406845290352,50.0811949713553,56.09193975514275,60.8691288525451,58.89946689849445,87.10456549453326,63.750291778899,52.49689292095185,69.5141968103635,97.7054545983675,69.05416154349464,51.047948704560355,73.0994870645158,61.09127666059155,53.6601758108217,56.697987553235706,54.8621452376904,65.2067113799825,53.5892301374475,96.1746862074294,83.8715279651221,50.01201109234485,52.48354093821515,66.37968441555151,52.2229685560076,80.10339638864676,52.11240398441235,75.7582162400159,66.37972993717915,89.89923624883579,67.5274054859407,51.426756548618556,57.9823426731192,59.915120520850195,62.79171855806965],\"yaxis\":\"y\",\"type\":\"scatter\"}],                        {\"template\":{\"data\":{\"histogram2dcontour\":[{\"type\":\"histogram2dcontour\",\"colorbar\":{\"outlinewidth\":0,\"ticks\":\"\"},\"colorscale\":[[0.0,\"#0d0887\"],[0.1111111111111111,\"#46039f\"],[0.2222222222222222,\"#7201a8\"],[0.3333333333333333,\"#9c179e\"],[0.4444444444444444,\"#bd3786\"],[0.5555555555555556,\"#d8576b\"],[0.6666666666666666,\"#ed7953\"],[0.7777777777777778,\"#fb9f3a\"],[0.8888888888888888,\"#fdca26\"],[1.0,\"#f0f921\"]]}],\"choropleth\":[{\"type\":\"choropleth\",\"colorbar\":{\"outlinewidth\":0,\"ticks\":\"\"}}],\"histogram2d\":[{\"type\":\"histogram2d\",\"colorbar\":{\"outlinewidth\":0,\"ticks\":\"\"},\"colorscale\":[[0.0,\"#0d0887\"],[0.1111111111111111,\"#46039f\"],[0.2222222222222222,\"#7201a8\"],[0.3333333333333333,\"#9c179e\"],[0.4444444444444444,\"#bd3786\"],[0.5555555555555556,\"#d8576b\"],[0.6666666666666666,\"#ed7953\"],[0.7777777777777778,\"#fb9f3a\"],[0.8888888888888888,\"#fdca26\"],[1.0,\"#f0f921\"]]}],\"heatmap\":[{\"type\":\"heatmap\",\"colorbar\":{\"outlinewidth\":0,\"ticks\":\"\"},\"colorscale\":[[0.0,\"#0d0887\"],[0.1111111111111111,\"#46039f\"],[0.2222222222222222,\"#7201a8\"],[0.3333333333333333,\"#9c179e\"],[0.4444444444444444,\"#bd3786\"],[0.5555555555555556,\"#d8576b\"],[0.6666666666666666,\"#ed7953\"],[0.7777777777777778,\"#fb9f3a\"],[0.8888888888888888,\"#fdca26\"],[1.0,\"#f0f921\"]]}],\"heatmapgl\":[{\"type\":\"heatmapgl\",\"colorbar\":{\"outlinewidth\":0,\"ticks\":\"\"},\"colorscale\":[[0.0,\"#0d0887\"],[0.1111111111111111,\"#46039f\"],[0.2222222222222222,\"#7201a8\"],[0.3333333333333333,\"#9c179e\"],[0.4444444444444444,\"#bd3786\"],[0.5555555555555556,\"#d8576b\"],[0.6666666666666666,\"#ed7953\"],[0.7777777777777778,\"#fb9f3a\"],[0.8888888888888888,\"#fdca26\"],[1.0,\"#f0f921\"]]}],\"contourcarpet\":[{\"type\":\"contourcarpet\",\"colorbar\":{\"outlinewidth\":0,\"ticks\":\"\"}}],\"contour\":[{\"type\":\"contour\",\"colorbar\":{\"outlinewidth\":0,\"ticks\":\"\"},\"colorscale\":[[0.0,\"#0d0887\"],[0.1111111111111111,\"#46039f\"],[0.2222222222222222,\"#7201a8\"],[0.3333333333333333,\"#9c179e\"],[0.4444444444444444,\"#bd3786\"],[0.5555555555555556,\"#d8576b\"],[0.6666666666666666,\"#ed7953\"],[0.7777777777777778,\"#fb9f3a\"],[0.8888888888888888,\"#fdca26\"],[1.0,\"#f0f921\"]]}],\"surface\":[{\"type\":\"surface\",\"colorbar\":{\"outlinewidth\":0,\"ticks\":\"\"},\"colorscale\":[[0.0,\"#0d0887\"],[0.1111111111111111,\"#46039f\"],[0.2222222222222222,\"#7201a8\"],[0.3333333333333333,\"#9c179e\"],[0.4444444444444444,\"#bd3786\"],[0.5555555555555556,\"#d8576b\"],[0.6666666666666666,\"#ed7953\"],[0.7777777777777778,\"#fb9f3a\"],[0.8888888888888888,\"#fdca26\"],[1.0,\"#f0f921\"]]}],\"mesh3d\":[{\"type\":\"mesh3d\",\"colorbar\":{\"outlinewidth\":0,\"ticks\":\"\"}}],\"scatter\":[{\"fillpattern\":{\"fillmode\":\"overlay\",\"size\":10,\"solidity\":0.2},\"type\":\"scatter\"}],\"parcoords\":[{\"type\":\"parcoords\",\"line\":{\"colorbar\":{\"outlinewidth\":0,\"ticks\":\"\"}}}],\"scatterpolargl\":[{\"type\":\"scatterpolargl\",\"marker\":{\"colorbar\":{\"outlinewidth\":0,\"ticks\":\"\"}}}],\"bar\":[{\"error_x\":{\"color\":\"#2a3f5f\"},\"error_y\":{\"color\":\"#2a3f5f\"},\"marker\":{\"line\":{\"color\":\"#E5ECF6\",\"width\":0.5},\"pattern\":{\"fillmode\":\"overlay\",\"size\":10,\"solidity\":0.2}},\"type\":\"bar\"}],\"scattergeo\":[{\"type\":\"scattergeo\",\"marker\":{\"colorbar\":{\"outlinewidth\":0,\"ticks\":\"\"}}}],\"scatterpolar\":[{\"type\":\"scatterpolar\",\"marker\":{\"colorbar\":{\"outlinewidth\":0,\"ticks\":\"\"}}}],\"histogram\":[{\"marker\":{\"pattern\":{\"fillmode\":\"overlay\",\"size\":10,\"solidity\":0.2}},\"type\":\"histogram\"}],\"scattergl\":[{\"type\":\"scattergl\",\"marker\":{\"colorbar\":{\"outlinewidth\":0,\"ticks\":\"\"}}}],\"scatter3d\":[{\"type\":\"scatter3d\",\"line\":{\"colorbar\":{\"outlinewidth\":0,\"ticks\":\"\"}},\"marker\":{\"colorbar\":{\"outlinewidth\":0,\"ticks\":\"\"}}}],\"scattermapbox\":[{\"type\":\"scattermapbox\",\"marker\":{\"colorbar\":{\"outlinewidth\":0,\"ticks\":\"\"}}}],\"scatterternary\":[{\"type\":\"scatterternary\",\"marker\":{\"colorbar\":{\"outlinewidth\":0,\"ticks\":\"\"}}}],\"scattercarpet\":[{\"type\":\"scattercarpet\",\"marker\":{\"colorbar\":{\"outlinewidth\":0,\"ticks\":\"\"}}}],\"carpet\":[{\"aaxis\":{\"endlinecolor\":\"#2a3f5f\",\"gridcolor\":\"white\",\"linecolor\":\"white\",\"minorgridcolor\":\"white\",\"startlinecolor\":\"#2a3f5f\"},\"baxis\":{\"endlinecolor\":\"#2a3f5f\",\"gridcolor\":\"white\",\"linecolor\":\"white\",\"minorgridcolor\":\"white\",\"startlinecolor\":\"#2a3f5f\"},\"type\":\"carpet\"}],\"table\":[{\"cells\":{\"fill\":{\"color\":\"#EBF0F8\"},\"line\":{\"color\":\"white\"}},\"header\":{\"fill\":{\"color\":\"#C8D4E3\"},\"line\":{\"color\":\"white\"}},\"type\":\"table\"}],\"barpolar\":[{\"marker\":{\"line\":{\"color\":\"#E5ECF6\",\"width\":0.5},\"pattern\":{\"fillmode\":\"overlay\",\"size\":10,\"solidity\":0.2}},\"type\":\"barpolar\"}],\"pie\":[{\"automargin\":true,\"type\":\"pie\"}]},\"layout\":{\"autotypenumbers\":\"strict\",\"colorway\":[\"#636efa\",\"#EF553B\",\"#00cc96\",\"#ab63fa\",\"#FFA15A\",\"#19d3f3\",\"#FF6692\",\"#B6E880\",\"#FF97FF\",\"#FECB52\"],\"font\":{\"color\":\"#2a3f5f\"},\"hovermode\":\"closest\",\"hoverlabel\":{\"align\":\"left\"},\"paper_bgcolor\":\"white\",\"plot_bgcolor\":\"#E5ECF6\",\"polar\":{\"bgcolor\":\"#E5ECF6\",\"angularaxis\":{\"gridcolor\":\"white\",\"linecolor\":\"white\",\"ticks\":\"\"},\"radialaxis\":{\"gridcolor\":\"white\",\"linecolor\":\"white\",\"ticks\":\"\"}},\"ternary\":{\"bgcolor\":\"#E5ECF6\",\"aaxis\":{\"gridcolor\":\"white\",\"linecolor\":\"white\",\"ticks\":\"\"},\"baxis\":{\"gridcolor\":\"white\",\"linecolor\":\"white\",\"ticks\":\"\"},\"caxis\":{\"gridcolor\":\"white\",\"linecolor\":\"white\",\"ticks\":\"\"}},\"coloraxis\":{\"colorbar\":{\"outlinewidth\":0,\"ticks\":\"\"}},\"colorscale\":{\"sequential\":[[0.0,\"#0d0887\"],[0.1111111111111111,\"#46039f\"],[0.2222222222222222,\"#7201a8\"],[0.3333333333333333,\"#9c179e\"],[0.4444444444444444,\"#bd3786\"],[0.5555555555555556,\"#d8576b\"],[0.6666666666666666,\"#ed7953\"],[0.7777777777777778,\"#fb9f3a\"],[0.8888888888888888,\"#fdca26\"],[1.0,\"#f0f921\"]],\"sequentialminus\":[[0.0,\"#0d0887\"],[0.1111111111111111,\"#46039f\"],[0.2222222222222222,\"#7201a8\"],[0.3333333333333333,\"#9c179e\"],[0.4444444444444444,\"#bd3786\"],[0.5555555555555556,\"#d8576b\"],[0.6666666666666666,\"#ed7953\"],[0.7777777777777778,\"#fb9f3a\"],[0.8888888888888888,\"#fdca26\"],[1.0,\"#f0f921\"]],\"diverging\":[[0,\"#8e0152\"],[0.1,\"#c51b7d\"],[0.2,\"#de77ae\"],[0.3,\"#f1b6da\"],[0.4,\"#fde0ef\"],[0.5,\"#f7f7f7\"],[0.6,\"#e6f5d0\"],[0.7,\"#b8e186\"],[0.8,\"#7fbc41\"],[0.9,\"#4d9221\"],[1,\"#276419\"]]},\"xaxis\":{\"gridcolor\":\"white\",\"linecolor\":\"white\",\"ticks\":\"\",\"title\":{\"standoff\":15},\"zerolinecolor\":\"white\",\"automargin\":true,\"zerolinewidth\":2},\"yaxis\":{\"gridcolor\":\"white\",\"linecolor\":\"white\",\"ticks\":\"\",\"title\":{\"standoff\":15},\"zerolinecolor\":\"white\",\"automargin\":true,\"zerolinewidth\":2},\"scene\":{\"xaxis\":{\"backgroundcolor\":\"#E5ECF6\",\"gridcolor\":\"white\",\"linecolor\":\"white\",\"showbackground\":true,\"ticks\":\"\",\"zerolinecolor\":\"white\",\"gridwidth\":2},\"yaxis\":{\"backgroundcolor\":\"#E5ECF6\",\"gridcolor\":\"white\",\"linecolor\":\"white\",\"showbackground\":true,\"ticks\":\"\",\"zerolinecolor\":\"white\",\"gridwidth\":2},\"zaxis\":{\"backgroundcolor\":\"#E5ECF6\",\"gridcolor\":\"white\",\"linecolor\":\"white\",\"showbackground\":true,\"ticks\":\"\",\"zerolinecolor\":\"white\",\"gridwidth\":2}},\"shapedefaults\":{\"line\":{\"color\":\"#2a3f5f\"}},\"annotationdefaults\":{\"arrowcolor\":\"#2a3f5f\",\"arrowhead\":0,\"arrowwidth\":1},\"geo\":{\"bgcolor\":\"white\",\"landcolor\":\"#E5ECF6\",\"subunitcolor\":\"white\",\"showland\":true,\"showlakes\":true,\"lakecolor\":\"white\"},\"title\":{\"x\":0.05},\"mapbox\":{\"style\":\"light\"}}},\"xaxis\":{\"anchor\":\"y\",\"domain\":[0.0,1.0],\"title\":{\"text\":\"Country\"},\"tickangle\":90},\"yaxis\":{\"anchor\":\"x\",\"domain\":[0.0,1.0],\"title\":{\"text\":\"Median PMD\"}},\"legend\":{\"title\":{\"text\":\"PMD_Level\"},\"tracegroupgap\":0,\"itemsizing\":\"constant\"},\"title\":{\"text\":\"Scatter Plot of mean PMD (a measure of Air Quality) for all Countries\"},\"height\":600,\"width\":1000},                        {\"responsive\": true}                    ).then(function(){\n",
       "                            \n",
       "var gd = document.getElementById('b718feaa-8559-4539-b38c-861eb9258c9a');\n",
       "var x = new MutationObserver(function (mutations, observer) {{\n",
       "        var display = window.getComputedStyle(gd).display;\n",
       "        if (!display || display === 'none') {{\n",
       "            console.log([gd, 'removed!']);\n",
       "            Plotly.purge(gd);\n",
       "            observer.disconnect();\n",
       "        }}\n",
       "}});\n",
       "\n",
       "// Listen for the removal of the full notebook cells\n",
       "var notebookContainer = gd.closest('#notebook-container');\n",
       "if (notebookContainer) {{\n",
       "    x.observe(notebookContainer, {childList: true});\n",
       "}}\n",
       "\n",
       "// Listen for the clearing of the current output cell\n",
       "var outputEl = gd.closest('.output');\n",
       "if (outputEl) {{\n",
       "    x.observe(outputEl, {childList: true});\n",
       "}}\n",
       "\n",
       "                        })                };                });            </script>        </div>"
      ]
     },
     "metadata": {},
     "output_type": "display_data"
    }
   ],
   "source": [
    "import plotly.express as px\n",
    "data = pd.read_csv('PMD_ind.csv')\n",
    "pmd_columns = [col for col in data.columns if col.startswith('PMD.ind')]\n",
    "\n",
    "data['PMD_mean'] = data[pmd_columns].median(axis = 1) # we take the median instead\n",
    "\n",
    "# Replace invalid values with NaN\n",
    "data['PMD_mean'].replace({0: np.nan, -8888: np.nan, -7777: np.nan, -9999: np.nan}, inplace=True)\n",
    "\n",
    "# Drop rows with NaN values in the PMD_mean column\n",
    "data = data.dropna(subset=['PMD_mean'])\n",
    "\n",
    "def categorize_pmd(pmd):\n",
    "    if pmd < 15:\n",
    "        return 'Good'\n",
    "    elif 15 <= pmd <= 50:\n",
    "        return 'Moderate'\n",
    "    else:\n",
    "        return 'Severe'\n",
    "    \n",
    "# \"\"\"A categorize_pmd() function assigns categories (Good, Moderate, Severe) based on PMD thresholds.\n",
    "# PMD < 15: Green (Good), 15 <= PMD <= 50: Orange (Moderate), PMD > 50: Red (Severe).\"\"\"\n",
    "    \n",
    "data['PMD_Level'] = data['PMD_mean'].apply(categorize_pmd)\n",
    "data['PMD_Level'] = pd.Categorical(data['PMD_Level'], categories = ['Moderate', 'Good', 'Severe'])\n",
    "\n",
    "# define a color map\n",
    "color_map = {\n",
    "    'Good' : 'green',\n",
    "    'Moderate' : 'orange',\n",
    "    'Severe' : 'red'\n",
    "}\n",
    "\n",
    "# Plot the mean PMD for all countries\n",
    "fig = px.scatter(\n",
    "    data,\n",
    "    x= 'country',\n",
    "    y = 'PMD_mean',\n",
    "    size = 'PMD_mean',\n",
    "    color = 'PMD_Level',\n",
    "    color_discrete_map = color_map,\n",
    "    title = 'Scatter Plot of mean PMD (a measure of Air Quality) for all Countries',\n",
    "    labels = {'PMD_mean': 'Mean PMD', 'country' : 'Country'},\n",
    "    template = 'plotly'\n",
    ")\n",
    "\n",
    "fig.update_layout(\n",
    "    xaxis_title  = 'Country',\n",
    "    yaxis_title = 'Median PMD',\n",
    "    xaxis = dict(tickangle = 90), # rotate x-axis labels\n",
    "    height = 600,\n",
    "    width = 1000\n",
    ")\n",
    "\n",
    "fig.show()\n",
    "\n"
   ]
  },
  {
   "cell_type": "markdown",
   "id": "624f3a59",
   "metadata": {},
   "source": [
    "# Plot Environmental Data by Country\n",
    "### You can now analyze any of the environmental symbols listed below by country. The thresholds used for categorization (e.g., Good, Moderate, Severe) are the same as those defined for PMD above, as they generally apply to most of these indices.\n",
    "\n",
    "### However, some symbols, like REC (Recycling Rate), have different interpretations. For example:\n",
    "\n",
    "### A higher REC index indicates better recycling performance by a country.\n",
    "#### Note: To fully understand the results of the plots, please refer to the PDF provided by Earth-data for detailed explanations of each symbol.\n",
    "\n",
    "### Symbols:    \n",
    "GHN: Greenhouse Gas Emissions (% contribution).\n",
    "CDA: Carbon Dioxide (CO2) Growth Rate.\n",
    "CHA: Methane (CH4) Growth Rate.\n",
    "LCB: CO2 from Land Cover (Land Use and Land-Use Change).\n",
    "GIB: GHG Intensity Trend (Greenhouse Gas per economic output).\n",
    "FGA: F-Gas Growth Rate (Fluorinated gases).\n",
    "BCA: Black Carbon Growth Rate.\n",
    "GHP: GHG Emissions per Capita.\n",
    "NDA: Nitrous Oxide (N2O) Growth Rate.\n",
    "Environmental Health\n",
    "HLT: Overall Health Impact (% contribution).\n",
    "AIR: Air Quality.\n",
    "H2O: Sanitation & Drinking Water.\n",
    "HMT: Heavy Metals (e.g., lead exposure).\n",
    "UWD: Unsafe Drinking Water.\n",
    "USD: Unsafe Sanitation.\n",
    "PBD: Lead Exposure.\n",
    "MSW: Controlled Solid Waste.\n",
    "REC: Recycling Rates.\n",
    "OCP: Ocean Plastic Pollution.\n",
    "TCL: Tree Cover Loss.\n",
    "GRL: Grassland Loss.\n",
    "WTL: Wetland Loss.\n",
    "SDA: SO2 (Sulfur Dioxide) Growth Rate.\n",
    "NXA: NOX (Nitrogen Oxides) Growth Rate.\n",
    "WWT: Wastewater Treatment.\n",
    "Air Pollution\n",
    "PMD: PM2.5 Exposure (fine particulate matter pollution).\n",
    "HAD: Household Solid Fuels.\n",
    "OZD: Ozone Exposure.\n",
    "NOE: Nitrogen Oxide (NOx) Exposure.\n",
    "SOE: Sulfur Dioxide (SO2) Exposure.\n",
    "COE: Carbon Monoxide (CO) Exposure.\n",
    "VOE: Volatile Organic Compounds (VOC) Exposure.\n",
    "Waste Management\n",
    "WMG: Waste Management in General (% contribution).\n",
    "Biodiversity & Habitat\n",
    "BDH: Biodiversity & Habitat.\n",
    "TBN: Terrestrial Biome Protection (National Level).\n",
    "TBG: Terrestrial Biome Protection (Global Level).\n",
    "MPA: Marine Protected Areas.\n",
    "PAR: Protected Areas Representation Index.\n",
    "SHI: Species Habitat Index.\n",
    "SPI: Species Protection Index.\n",
    "BHV: Biodiversity Habitat Index.\n",
    "Ecosystem Vitality\n",
    "ECO: Ecosystem Vitality.\n",
    "ECS: Ecosystem Services.\n",
    "ACD: Acid Rain.\n",
    "WRS: Water Resources.\n",
    "Fisheries\n",
    "FSH: Fisheries.\n",
    "FSS: Fish Stock Status.\n",
    "RMS: Marine Trophic Index.\n",
    "FTD: Fish Caught by Trawling.\n",
    "Agriculture\n",
    "AGR: Agriculture.\n",
    "SNM: Sustainable Nitrogen Management Index.\n",
    "SPU: Sustainable Pesticide Use.\"\"\"\n",
    "\n"
   ]
  },
  {
   "cell_type": "code",
   "execution_count": 3,
   "id": "b8d4a85f",
   "metadata": {},
   "outputs": [
    {
     "data": {
      "application/vnd.plotly.v1+json": {
       "config": {
        "plotlyServerURL": "https://plot.ly"
       },
       "data": [
        {
         "hovertemplate": "PMD_Level=Moderate<br>Country=%{x}<br>PMD_median=%{marker.size}<extra></extra>",
         "legendgroup": "Moderate",
         "marker": {
          "color": "orange",
          "size": [
           29.471169311494698,
           33.1058829920747,
           36.3497210386706,
           35.8773332991086,
           45.542036574608844,
           37.601137431966194,
           19.644566957630403,
           32.777349884653404,
           32.3839090145561,
           36.03577758224535,
           26.9420346156713,
           23.42088560904905,
           17.58594429882085,
           39.62703409076795,
           44.03781484718125,
           25.48494504741765,
           35.5261974922311,
           31.3277109697848,
           41.03223889269305,
           44.0927441407904,
           37.35114146953125,
           17.6809647656747,
           27.21160126736885,
           37.146208290388046,
           39.355981433310305,
           31.2452701220028,
           41.80081252834005,
           32.4479380398704,
           33.72088030796115,
           37.76438293774965,
           41.0072311716539,
           16.982142594236848,
           25.7806190095687,
           24.88538583764595,
           32.075618497366,
           19.12359637229595,
           39.1145395821826,
           22.5051747068978,
           33.16936101293615,
           33.36319607888825,
           26.8897730859279,
           45.589510489375996,
           44.54467593001285,
           23.94149255964,
           20.365094001509497,
           45.9704185504595,
           38.62174816693906,
           42.9096636729514,
           38.98860290835459,
           33.0354576270925,
           23.704554588258397,
           44.404302161934254,
           32.84154148362915,
           22.7408366333407,
           49.5423667197228,
           42.5474557876325,
           47.3551384366179,
           30.419553228122098,
           24.4093924457955,
           33.5719743895919,
           26.10656593534085,
           16.97579922149845,
           17.8051497956298,
           17.687277014927048,
           34.26134786728515,
           49.553542901259,
           40.7990104015624,
           19.78611579031055,
           45.0626170195679,
           17.8042036026938,
           42.7306185737476,
           45.9630310094993,
           38.14340314916045,
           25.0650313574729,
           22.15479671865355,
           16.832338156397647,
           22.414351243534803,
           18.8033254897908,
           38.899387747443555,
           28.062800570688502,
           23.3848095571177,
           40.566030560586555,
           31.1520827933727,
           26.6334946022316,
           30.4515760544212,
           33.73119561322355,
           22.748146102786748,
           46.16003206504125,
           42.48368555439595,
           43.1520853739852,
           38.14971440048705,
           35.50294093467315,
           15.4836141696684,
           19.361812267827652,
           37.3832901729185,
           49.28930394376785,
           27.0385324368109,
           29.26903153399345,
           44.660427058265896,
           20.7697293121469,
           17.68021350365015,
           47.758727513527504,
           46.6629871161627,
           38.9629740187809,
           24.64437017314265,
           28.354720163098,
           34.37801976283865,
           29.15128220940165
          ],
          "sizemode": "area",
          "sizeref": 0.24426363649591873,
          "symbol": "circle"
         },
         "mode": "markers",
         "name": "Moderate",
         "orientation": "v",
         "showlegend": true,
         "type": "scatter",
         "x": [
          "Afghanistan",
          "Albania",
          "Angola",
          "Antigua and Barbuda",
          "Argentina",
          "Bahamas",
          "Bangladesh",
          "Barbados",
          "Belize",
          "Benin",
          "Bhutan",
          "Bolivia",
          "Bosnia and Herzegovina",
          "Brazil",
          "Burkina Faso",
          "Cabo Verde",
          "Cambodia",
          "Central African Republic",
          "Chad",
          "Chile",
          "Colombia",
          "Cote d'Ivoire",
          "Croatia",
          "Cuba",
          "Cyprus",
          "Czech Republic",
          "Dem. Rep. Congo",
          "Dominica",
          "Dominican Republic",
          "Ecuador",
          "El Salvador",
          "Equatorial Guinea",
          "Eritrea",
          "Fiji",
          "Gambia",
          "Georgia",
          "Greece",
          "Grenada",
          "Guatemala",
          "Guinea",
          "Guinea-Bissau",
          "Haiti",
          "Honduras",
          "Hungary",
          "Indonesia",
          "Israel",
          "Jamaica",
          "Kenya",
          "Kiribati",
          "Laos",
          "Latvia",
          "Liberia",
          "Lithuania",
          "Malaysia",
          "Maldives",
          "Mali",
          "Malta",
          "Marshall Islands",
          "Mauritius",
          "Mexico",
          "Micronesia",
          "Moldova",
          "Myanmar",
          "Namibia",
          "Nauru",
          "Nicaragua",
          "Niger",
          "Nigeria",
          "Niue",
          "North Korea",
          "Palau",
          "Papua New Guinea",
          "Peru",
          "Philippines",
          "Poland",
          "Republic of Congo",
          "Romania",
          "Russia",
          "Rwanda",
          "Saint Lucia",
          "Saint Vincent and the Grenadines",
          "Samoa",
          "Sao Tome and Principe",
          "Senegal",
          "Seychelles",
          "Sierra Leone",
          "Slovakia",
          "Slovenia",
          "Solomon Islands",
          "South Korea",
          "South Sudan",
          "Sri Lanka",
          "Sudan",
          "Suriname",
          "Taiwan",
          "Tanzania",
          "Thailand",
          "Togo",
          "Tonga",
          "Trinidad and Tobago",
          "Turkey",
          "Tuvalu",
          "Uganda",
          "Vanuatu",
          "Venezuela",
          "Viet Nam",
          "Zambia",
          "Zimbabwe"
         ],
         "xaxis": "x",
         "y": [
          29.471169311494698,
          33.1058829920747,
          36.3497210386706,
          35.8773332991086,
          45.542036574608844,
          37.601137431966194,
          19.644566957630403,
          32.777349884653404,
          32.3839090145561,
          36.03577758224535,
          26.9420346156713,
          23.42088560904905,
          17.58594429882085,
          39.62703409076795,
          44.03781484718125,
          25.48494504741765,
          35.5261974922311,
          31.3277109697848,
          41.03223889269305,
          44.0927441407904,
          37.35114146953125,
          17.6809647656747,
          27.21160126736885,
          37.146208290388046,
          39.355981433310305,
          31.2452701220028,
          41.80081252834005,
          32.4479380398704,
          33.72088030796115,
          37.76438293774965,
          41.0072311716539,
          16.982142594236848,
          25.7806190095687,
          24.88538583764595,
          32.075618497366,
          19.12359637229595,
          39.1145395821826,
          22.5051747068978,
          33.16936101293615,
          33.36319607888825,
          26.8897730859279,
          45.589510489375996,
          44.54467593001285,
          23.94149255964,
          20.365094001509497,
          45.9704185504595,
          38.62174816693906,
          42.9096636729514,
          38.98860290835459,
          33.0354576270925,
          23.704554588258397,
          44.404302161934254,
          32.84154148362915,
          22.7408366333407,
          49.5423667197228,
          42.5474557876325,
          47.3551384366179,
          30.419553228122098,
          24.4093924457955,
          33.5719743895919,
          26.10656593534085,
          16.97579922149845,
          17.8051497956298,
          17.687277014927048,
          34.26134786728515,
          49.553542901259,
          40.7990104015624,
          19.78611579031055,
          45.0626170195679,
          17.8042036026938,
          42.7306185737476,
          45.9630310094993,
          38.14340314916045,
          25.0650313574729,
          22.15479671865355,
          16.832338156397647,
          22.414351243534803,
          18.8033254897908,
          38.899387747443555,
          28.062800570688502,
          23.3848095571177,
          40.566030560586555,
          31.1520827933727,
          26.6334946022316,
          30.4515760544212,
          33.73119561322355,
          22.748146102786748,
          46.16003206504125,
          42.48368555439595,
          43.1520853739852,
          38.14971440048705,
          35.50294093467315,
          15.4836141696684,
          19.361812267827652,
          37.3832901729185,
          49.28930394376785,
          27.0385324368109,
          29.26903153399345,
          44.660427058265896,
          20.7697293121469,
          17.68021350365015,
          47.758727513527504,
          46.6629871161627,
          38.9629740187809,
          24.64437017314265,
          28.354720163098,
          34.37801976283865,
          29.15128220940165
         ],
         "yaxis": "y"
        },
        {
         "hovertemplate": "PMD_Level=Good<br>Country=%{x}<br>PMD_median=%{marker.size}<extra></extra>",
         "legendgroup": "Good",
         "marker": {
          "color": "green",
          "size": [
           8.860596978243235,
           6.825631621580155,
           8.75933456849061,
           6.9251671899210905,
           12.55566728464725,
           9.746346625844485,
           7.317429783151205,
           14.5619206333744,
           5.821924236527,
           12.458115499204,
           7.372074171839635,
           9.240098297037925,
           11.5388248974777,
           10.085929978868425,
           9.49268571890417,
           12.41918404189795,
           13.480429499979,
           10.38840200767332,
           9.6802919422612,
           13.98866035877375,
           1.6549676311339199,
           14.505144556797799,
           6.091737378480795,
           14.06745176044495,
           8.926363207611391,
           6.39388581316544,
           5.496696651431314,
           10.972278233208701,
           11.527646380556465,
           13.4332399134092
          ],
          "sizemode": "area",
          "sizeref": 0.24426363649591873,
          "symbol": "circle"
         },
         "mode": "markers",
         "name": "Good",
         "orientation": "v",
         "showlegend": true,
         "type": "scatter",
         "x": [
          "Algeria",
          "Armenia",
          "Belarus",
          "Botswana",
          "Cameroon",
          "China",
          "Djibouti",
          "Eswatini",
          "Gabon",
          "Ghana",
          "Guyana",
          "Iran",
          "Jordan",
          "Kazakhstan",
          "Kuwait",
          "Kyrgyzstan",
          "Lebanon",
          "Lesotho",
          "Libya",
          "Mauritania",
          "Mongolia",
          "Montenegro",
          "Morocco",
          "Nepal",
          "Serbia",
          "South Africa",
          "State of Palestine",
          "Tunisia",
          "Ukraine",
          "Yemen"
         ],
         "xaxis": "x",
         "y": [
          8.860596978243235,
          6.825631621580155,
          8.75933456849061,
          6.9251671899210905,
          12.55566728464725,
          9.746346625844485,
          7.317429783151205,
          14.5619206333744,
          5.821924236527,
          12.458115499204,
          7.372074171839635,
          9.240098297037925,
          11.5388248974777,
          10.085929978868425,
          9.49268571890417,
          12.41918404189795,
          13.480429499979,
          10.38840200767332,
          9.6802919422612,
          13.98866035877375,
          1.6549676311339199,
          14.505144556797799,
          6.091737378480795,
          14.06745176044495,
          8.926363207611391,
          6.39388581316544,
          5.496696651431314,
          10.972278233208701,
          11.527646380556465,
          13.4332399134092
         ],
         "yaxis": "y"
        },
        {
         "hovertemplate": "PMD_Level=Severe<br>Country=%{x}<br>PMD_median=%{marker.size}<extra></extra>",
         "legendgroup": "Severe",
         "marker": {
          "color": "red",
          "size": [
           72.2341998806659,
           94.63833085709365,
           54.497623882561456,
           50.564961469738705,
           82.48635523810125,
           59.2173779587344,
           51.46371644718225,
           80.43899780290249,
           50.4588314790829,
           62.8406845290352,
           50.0811949713553,
           56.09193975514275,
           60.8691288525451,
           58.89946689849445,
           87.10456549453326,
           63.750291778899,
           52.49689292095185,
           69.5141968103635,
           97.7054545983675,
           69.05416154349464,
           51.047948704560355,
           73.0994870645158,
           61.09127666059155,
           53.6601758108217,
           56.697987553235706,
           54.8621452376904,
           65.2067113799825,
           53.5892301374475,
           96.1746862074294,
           83.8715279651221,
           50.01201109234485,
           52.48354093821515,
           66.37968441555151,
           52.2229685560076,
           80.10339638864676,
           52.11240398441235,
           75.7582162400159,
           66.37972993717915,
           89.89923624883579,
           67.5274054859407,
           51.426756548618556,
           57.9823426731192,
           59.915120520850195,
           62.79171855806965
          ],
          "sizemode": "area",
          "sizeref": 0.24426363649591873,
          "symbol": "circle"
         },
         "mode": "markers",
         "name": "Severe",
         "orientation": "v",
         "showlegend": true,
         "type": "scatter",
         "x": [
          "Andorra",
          "Australia",
          "Austria",
          "Belgium",
          "Bermuda",
          "Brunei Darussalam",
          "Burundi",
          "Canada",
          "Comoros",
          "Cook Islands",
          "Costa Rica",
          "Denmark",
          "Estonia",
          "Ethiopia",
          "Finland",
          "France",
          "Germany",
          "Greenland",
          "Iceland",
          "Ireland",
          "Italy",
          "Japan",
          "Luxembourg",
          "Madagascar",
          "Malawi",
          "Monaco",
          "Mozambique",
          "Netherlands",
          "New Zealand",
          "Norway",
          "Panama",
          "Paraguay",
          "Portugal",
          "Saint Kitts and Nevis",
          "San Marino",
          "Singapore",
          "Somalia",
          "Spain",
          "Sweden",
          "Switzerland",
          "Timor-Leste",
          "United Kingdom",
          "United States of America",
          "Uruguay"
         ],
         "xaxis": "x",
         "y": [
          72.2341998806659,
          94.63833085709365,
          54.497623882561456,
          50.564961469738705,
          82.48635523810125,
          59.2173779587344,
          51.46371644718225,
          80.43899780290249,
          50.4588314790829,
          62.8406845290352,
          50.0811949713553,
          56.09193975514275,
          60.8691288525451,
          58.89946689849445,
          87.10456549453326,
          63.750291778899,
          52.49689292095185,
          69.5141968103635,
          97.7054545983675,
          69.05416154349464,
          51.047948704560355,
          73.0994870645158,
          61.09127666059155,
          53.6601758108217,
          56.697987553235706,
          54.8621452376904,
          65.2067113799825,
          53.5892301374475,
          96.1746862074294,
          83.8715279651221,
          50.01201109234485,
          52.48354093821515,
          66.37968441555151,
          52.2229685560076,
          80.10339638864676,
          52.11240398441235,
          75.7582162400159,
          66.37972993717915,
          89.89923624883579,
          67.5274054859407,
          51.426756548618556,
          57.9823426731192,
          59.915120520850195,
          62.79171855806965
         ],
         "yaxis": "y"
        }
       ],
       "layout": {
        "height": 600,
        "legend": {
         "itemsizing": "constant",
         "title": {
          "text": "PMD_Level"
         },
         "tracegroupgap": 0
        },
        "template": {
         "data": {
          "bar": [
           {
            "error_x": {
             "color": "#2a3f5f"
            },
            "error_y": {
             "color": "#2a3f5f"
            },
            "marker": {
             "line": {
              "color": "#E5ECF6",
              "width": 0.5
             },
             "pattern": {
              "fillmode": "overlay",
              "size": 10,
              "solidity": 0.2
             }
            },
            "type": "bar"
           }
          ],
          "barpolar": [
           {
            "marker": {
             "line": {
              "color": "#E5ECF6",
              "width": 0.5
             },
             "pattern": {
              "fillmode": "overlay",
              "size": 10,
              "solidity": 0.2
             }
            },
            "type": "barpolar"
           }
          ],
          "carpet": [
           {
            "aaxis": {
             "endlinecolor": "#2a3f5f",
             "gridcolor": "white",
             "linecolor": "white",
             "minorgridcolor": "white",
             "startlinecolor": "#2a3f5f"
            },
            "baxis": {
             "endlinecolor": "#2a3f5f",
             "gridcolor": "white",
             "linecolor": "white",
             "minorgridcolor": "white",
             "startlinecolor": "#2a3f5f"
            },
            "type": "carpet"
           }
          ],
          "choropleth": [
           {
            "colorbar": {
             "outlinewidth": 0,
             "ticks": ""
            },
            "type": "choropleth"
           }
          ],
          "contour": [
           {
            "colorbar": {
             "outlinewidth": 0,
             "ticks": ""
            },
            "colorscale": [
             [
              0,
              "#0d0887"
             ],
             [
              0.1111111111111111,
              "#46039f"
             ],
             [
              0.2222222222222222,
              "#7201a8"
             ],
             [
              0.3333333333333333,
              "#9c179e"
             ],
             [
              0.4444444444444444,
              "#bd3786"
             ],
             [
              0.5555555555555556,
              "#d8576b"
             ],
             [
              0.6666666666666666,
              "#ed7953"
             ],
             [
              0.7777777777777778,
              "#fb9f3a"
             ],
             [
              0.8888888888888888,
              "#fdca26"
             ],
             [
              1,
              "#f0f921"
             ]
            ],
            "type": "contour"
           }
          ],
          "contourcarpet": [
           {
            "colorbar": {
             "outlinewidth": 0,
             "ticks": ""
            },
            "type": "contourcarpet"
           }
          ],
          "heatmap": [
           {
            "colorbar": {
             "outlinewidth": 0,
             "ticks": ""
            },
            "colorscale": [
             [
              0,
              "#0d0887"
             ],
             [
              0.1111111111111111,
              "#46039f"
             ],
             [
              0.2222222222222222,
              "#7201a8"
             ],
             [
              0.3333333333333333,
              "#9c179e"
             ],
             [
              0.4444444444444444,
              "#bd3786"
             ],
             [
              0.5555555555555556,
              "#d8576b"
             ],
             [
              0.6666666666666666,
              "#ed7953"
             ],
             [
              0.7777777777777778,
              "#fb9f3a"
             ],
             [
              0.8888888888888888,
              "#fdca26"
             ],
             [
              1,
              "#f0f921"
             ]
            ],
            "type": "heatmap"
           }
          ],
          "heatmapgl": [
           {
            "colorbar": {
             "outlinewidth": 0,
             "ticks": ""
            },
            "colorscale": [
             [
              0,
              "#0d0887"
             ],
             [
              0.1111111111111111,
              "#46039f"
             ],
             [
              0.2222222222222222,
              "#7201a8"
             ],
             [
              0.3333333333333333,
              "#9c179e"
             ],
             [
              0.4444444444444444,
              "#bd3786"
             ],
             [
              0.5555555555555556,
              "#d8576b"
             ],
             [
              0.6666666666666666,
              "#ed7953"
             ],
             [
              0.7777777777777778,
              "#fb9f3a"
             ],
             [
              0.8888888888888888,
              "#fdca26"
             ],
             [
              1,
              "#f0f921"
             ]
            ],
            "type": "heatmapgl"
           }
          ],
          "histogram": [
           {
            "marker": {
             "pattern": {
              "fillmode": "overlay",
              "size": 10,
              "solidity": 0.2
             }
            },
            "type": "histogram"
           }
          ],
          "histogram2d": [
           {
            "colorbar": {
             "outlinewidth": 0,
             "ticks": ""
            },
            "colorscale": [
             [
              0,
              "#0d0887"
             ],
             [
              0.1111111111111111,
              "#46039f"
             ],
             [
              0.2222222222222222,
              "#7201a8"
             ],
             [
              0.3333333333333333,
              "#9c179e"
             ],
             [
              0.4444444444444444,
              "#bd3786"
             ],
             [
              0.5555555555555556,
              "#d8576b"
             ],
             [
              0.6666666666666666,
              "#ed7953"
             ],
             [
              0.7777777777777778,
              "#fb9f3a"
             ],
             [
              0.8888888888888888,
              "#fdca26"
             ],
             [
              1,
              "#f0f921"
             ]
            ],
            "type": "histogram2d"
           }
          ],
          "histogram2dcontour": [
           {
            "colorbar": {
             "outlinewidth": 0,
             "ticks": ""
            },
            "colorscale": [
             [
              0,
              "#0d0887"
             ],
             [
              0.1111111111111111,
              "#46039f"
             ],
             [
              0.2222222222222222,
              "#7201a8"
             ],
             [
              0.3333333333333333,
              "#9c179e"
             ],
             [
              0.4444444444444444,
              "#bd3786"
             ],
             [
              0.5555555555555556,
              "#d8576b"
             ],
             [
              0.6666666666666666,
              "#ed7953"
             ],
             [
              0.7777777777777778,
              "#fb9f3a"
             ],
             [
              0.8888888888888888,
              "#fdca26"
             ],
             [
              1,
              "#f0f921"
             ]
            ],
            "type": "histogram2dcontour"
           }
          ],
          "mesh3d": [
           {
            "colorbar": {
             "outlinewidth": 0,
             "ticks": ""
            },
            "type": "mesh3d"
           }
          ],
          "parcoords": [
           {
            "line": {
             "colorbar": {
              "outlinewidth": 0,
              "ticks": ""
             }
            },
            "type": "parcoords"
           }
          ],
          "pie": [
           {
            "automargin": true,
            "type": "pie"
           }
          ],
          "scatter": [
           {
            "fillpattern": {
             "fillmode": "overlay",
             "size": 10,
             "solidity": 0.2
            },
            "type": "scatter"
           }
          ],
          "scatter3d": [
           {
            "line": {
             "colorbar": {
              "outlinewidth": 0,
              "ticks": ""
             }
            },
            "marker": {
             "colorbar": {
              "outlinewidth": 0,
              "ticks": ""
             }
            },
            "type": "scatter3d"
           }
          ],
          "scattercarpet": [
           {
            "marker": {
             "colorbar": {
              "outlinewidth": 0,
              "ticks": ""
             }
            },
            "type": "scattercarpet"
           }
          ],
          "scattergeo": [
           {
            "marker": {
             "colorbar": {
              "outlinewidth": 0,
              "ticks": ""
             }
            },
            "type": "scattergeo"
           }
          ],
          "scattergl": [
           {
            "marker": {
             "colorbar": {
              "outlinewidth": 0,
              "ticks": ""
             }
            },
            "type": "scattergl"
           }
          ],
          "scattermapbox": [
           {
            "marker": {
             "colorbar": {
              "outlinewidth": 0,
              "ticks": ""
             }
            },
            "type": "scattermapbox"
           }
          ],
          "scatterpolar": [
           {
            "marker": {
             "colorbar": {
              "outlinewidth": 0,
              "ticks": ""
             }
            },
            "type": "scatterpolar"
           }
          ],
          "scatterpolargl": [
           {
            "marker": {
             "colorbar": {
              "outlinewidth": 0,
              "ticks": ""
             }
            },
            "type": "scatterpolargl"
           }
          ],
          "scatterternary": [
           {
            "marker": {
             "colorbar": {
              "outlinewidth": 0,
              "ticks": ""
             }
            },
            "type": "scatterternary"
           }
          ],
          "surface": [
           {
            "colorbar": {
             "outlinewidth": 0,
             "ticks": ""
            },
            "colorscale": [
             [
              0,
              "#0d0887"
             ],
             [
              0.1111111111111111,
              "#46039f"
             ],
             [
              0.2222222222222222,
              "#7201a8"
             ],
             [
              0.3333333333333333,
              "#9c179e"
             ],
             [
              0.4444444444444444,
              "#bd3786"
             ],
             [
              0.5555555555555556,
              "#d8576b"
             ],
             [
              0.6666666666666666,
              "#ed7953"
             ],
             [
              0.7777777777777778,
              "#fb9f3a"
             ],
             [
              0.8888888888888888,
              "#fdca26"
             ],
             [
              1,
              "#f0f921"
             ]
            ],
            "type": "surface"
           }
          ],
          "table": [
           {
            "cells": {
             "fill": {
              "color": "#EBF0F8"
             },
             "line": {
              "color": "white"
             }
            },
            "header": {
             "fill": {
              "color": "#C8D4E3"
             },
             "line": {
              "color": "white"
             }
            },
            "type": "table"
           }
          ]
         },
         "layout": {
          "annotationdefaults": {
           "arrowcolor": "#2a3f5f",
           "arrowhead": 0,
           "arrowwidth": 1
          },
          "autotypenumbers": "strict",
          "coloraxis": {
           "colorbar": {
            "outlinewidth": 0,
            "ticks": ""
           }
          },
          "colorscale": {
           "diverging": [
            [
             0,
             "#8e0152"
            ],
            [
             0.1,
             "#c51b7d"
            ],
            [
             0.2,
             "#de77ae"
            ],
            [
             0.3,
             "#f1b6da"
            ],
            [
             0.4,
             "#fde0ef"
            ],
            [
             0.5,
             "#f7f7f7"
            ],
            [
             0.6,
             "#e6f5d0"
            ],
            [
             0.7,
             "#b8e186"
            ],
            [
             0.8,
             "#7fbc41"
            ],
            [
             0.9,
             "#4d9221"
            ],
            [
             1,
             "#276419"
            ]
           ],
           "sequential": [
            [
             0,
             "#0d0887"
            ],
            [
             0.1111111111111111,
             "#46039f"
            ],
            [
             0.2222222222222222,
             "#7201a8"
            ],
            [
             0.3333333333333333,
             "#9c179e"
            ],
            [
             0.4444444444444444,
             "#bd3786"
            ],
            [
             0.5555555555555556,
             "#d8576b"
            ],
            [
             0.6666666666666666,
             "#ed7953"
            ],
            [
             0.7777777777777778,
             "#fb9f3a"
            ],
            [
             0.8888888888888888,
             "#fdca26"
            ],
            [
             1,
             "#f0f921"
            ]
           ],
           "sequentialminus": [
            [
             0,
             "#0d0887"
            ],
            [
             0.1111111111111111,
             "#46039f"
            ],
            [
             0.2222222222222222,
             "#7201a8"
            ],
            [
             0.3333333333333333,
             "#9c179e"
            ],
            [
             0.4444444444444444,
             "#bd3786"
            ],
            [
             0.5555555555555556,
             "#d8576b"
            ],
            [
             0.6666666666666666,
             "#ed7953"
            ],
            [
             0.7777777777777778,
             "#fb9f3a"
            ],
            [
             0.8888888888888888,
             "#fdca26"
            ],
            [
             1,
             "#f0f921"
            ]
           ]
          },
          "colorway": [
           "#636efa",
           "#EF553B",
           "#00cc96",
           "#ab63fa",
           "#FFA15A",
           "#19d3f3",
           "#FF6692",
           "#B6E880",
           "#FF97FF",
           "#FECB52"
          ],
          "font": {
           "color": "#2a3f5f"
          },
          "geo": {
           "bgcolor": "white",
           "lakecolor": "white",
           "landcolor": "#E5ECF6",
           "showlakes": true,
           "showland": true,
           "subunitcolor": "white"
          },
          "hoverlabel": {
           "align": "left"
          },
          "hovermode": "closest",
          "mapbox": {
           "style": "light"
          },
          "paper_bgcolor": "white",
          "plot_bgcolor": "#E5ECF6",
          "polar": {
           "angularaxis": {
            "gridcolor": "white",
            "linecolor": "white",
            "ticks": ""
           },
           "bgcolor": "#E5ECF6",
           "radialaxis": {
            "gridcolor": "white",
            "linecolor": "white",
            "ticks": ""
           }
          },
          "scene": {
           "xaxis": {
            "backgroundcolor": "#E5ECF6",
            "gridcolor": "white",
            "gridwidth": 2,
            "linecolor": "white",
            "showbackground": true,
            "ticks": "",
            "zerolinecolor": "white"
           },
           "yaxis": {
            "backgroundcolor": "#E5ECF6",
            "gridcolor": "white",
            "gridwidth": 2,
            "linecolor": "white",
            "showbackground": true,
            "ticks": "",
            "zerolinecolor": "white"
           },
           "zaxis": {
            "backgroundcolor": "#E5ECF6",
            "gridcolor": "white",
            "gridwidth": 2,
            "linecolor": "white",
            "showbackground": true,
            "ticks": "",
            "zerolinecolor": "white"
           }
          },
          "shapedefaults": {
           "line": {
            "color": "#2a3f5f"
           }
          },
          "ternary": {
           "aaxis": {
            "gridcolor": "white",
            "linecolor": "white",
            "ticks": ""
           },
           "baxis": {
            "gridcolor": "white",
            "linecolor": "white",
            "ticks": ""
           },
           "bgcolor": "#E5ECF6",
           "caxis": {
            "gridcolor": "white",
            "linecolor": "white",
            "ticks": ""
           }
          },
          "title": {
           "x": 0.05
          },
          "xaxis": {
           "automargin": true,
           "gridcolor": "white",
           "linecolor": "white",
           "ticks": "",
           "title": {
            "standoff": 15
           },
           "zerolinecolor": "white",
           "zerolinewidth": 2
          },
          "yaxis": {
           "automargin": true,
           "gridcolor": "white",
           "linecolor": "white",
           "ticks": "",
           "title": {
            "standoff": 15
           },
           "zerolinecolor": "white",
           "zerolinewidth": 2
          }
         }
        },
        "title": {
         "text": "Scatter Plot of Median PMD for All Countries"
        },
        "width": 1000,
        "xaxis": {
         "anchor": "y",
         "domain": [
          0,
          1
         ],
         "tickangle": 90,
         "title": {
          "text": "Country"
         }
        },
        "yaxis": {
         "anchor": "x",
         "domain": [
          0,
          1
         ],
         "title": {
          "text": "Median PMD"
         }
        }
       }
      },
      "text/html": [
       "<div>                            <div id=\"21c0e2d3-d807-491c-90c6-630d5951e760\" class=\"plotly-graph-div\" style=\"height:600px; width:1000px;\"></div>            <script type=\"text/javascript\">                require([\"plotly\"], function(Plotly) {                    window.PLOTLYENV=window.PLOTLYENV || {};                                    if (document.getElementById(\"21c0e2d3-d807-491c-90c6-630d5951e760\")) {                    Plotly.newPlot(                        \"21c0e2d3-d807-491c-90c6-630d5951e760\",                        [{\"hovertemplate\":\"PMD_Level=Moderate<br>Country=%{x}<br>PMD_median=%{marker.size}<extra></extra>\",\"legendgroup\":\"Moderate\",\"marker\":{\"color\":\"orange\",\"size\":[29.471169311494698,33.1058829920747,36.3497210386706,35.8773332991086,45.542036574608844,37.601137431966194,19.644566957630403,32.777349884653404,32.3839090145561,36.03577758224535,26.9420346156713,23.42088560904905,17.58594429882085,39.62703409076795,44.03781484718125,25.48494504741765,35.5261974922311,31.3277109697848,41.03223889269305,44.0927441407904,37.35114146953125,17.6809647656747,27.21160126736885,37.146208290388046,39.355981433310305,31.2452701220028,41.80081252834005,32.4479380398704,33.72088030796115,37.76438293774965,41.0072311716539,16.982142594236848,25.7806190095687,24.88538583764595,32.075618497366,19.12359637229595,39.1145395821826,22.5051747068978,33.16936101293615,33.36319607888825,26.8897730859279,45.589510489375996,44.54467593001285,23.94149255964,20.365094001509497,45.9704185504595,38.62174816693906,42.9096636729514,38.98860290835459,33.0354576270925,23.704554588258397,44.404302161934254,32.84154148362915,22.7408366333407,49.5423667197228,42.5474557876325,47.3551384366179,30.419553228122098,24.4093924457955,33.5719743895919,26.10656593534085,16.97579922149845,17.8051497956298,17.687277014927048,34.26134786728515,49.553542901259,40.7990104015624,19.78611579031055,45.0626170195679,17.8042036026938,42.7306185737476,45.9630310094993,38.14340314916045,25.0650313574729,22.15479671865355,16.832338156397647,22.414351243534803,18.8033254897908,38.899387747443555,28.062800570688502,23.3848095571177,40.566030560586555,31.1520827933727,26.6334946022316,30.4515760544212,33.73119561322355,22.748146102786748,46.16003206504125,42.48368555439595,43.1520853739852,38.14971440048705,35.50294093467315,15.4836141696684,19.361812267827652,37.3832901729185,49.28930394376785,27.0385324368109,29.26903153399345,44.660427058265896,20.7697293121469,17.68021350365015,47.758727513527504,46.6629871161627,38.9629740187809,24.64437017314265,28.354720163098,34.37801976283865,29.15128220940165],\"sizemode\":\"area\",\"sizeref\":0.24426363649591873,\"symbol\":\"circle\"},\"mode\":\"markers\",\"name\":\"Moderate\",\"orientation\":\"v\",\"showlegend\":true,\"x\":[\"Afghanistan\",\"Albania\",\"Angola\",\"Antigua and Barbuda\",\"Argentina\",\"Bahamas\",\"Bangladesh\",\"Barbados\",\"Belize\",\"Benin\",\"Bhutan\",\"Bolivia\",\"Bosnia and Herzegovina\",\"Brazil\",\"Burkina Faso\",\"Cabo Verde\",\"Cambodia\",\"Central African Republic\",\"Chad\",\"Chile\",\"Colombia\",\"Cote d'Ivoire\",\"Croatia\",\"Cuba\",\"Cyprus\",\"Czech Republic\",\"Dem. Rep. Congo\",\"Dominica\",\"Dominican Republic\",\"Ecuador\",\"El Salvador\",\"Equatorial Guinea\",\"Eritrea\",\"Fiji\",\"Gambia\",\"Georgia\",\"Greece\",\"Grenada\",\"Guatemala\",\"Guinea\",\"Guinea-Bissau\",\"Haiti\",\"Honduras\",\"Hungary\",\"Indonesia\",\"Israel\",\"Jamaica\",\"Kenya\",\"Kiribati\",\"Laos\",\"Latvia\",\"Liberia\",\"Lithuania\",\"Malaysia\",\"Maldives\",\"Mali\",\"Malta\",\"Marshall Islands\",\"Mauritius\",\"Mexico\",\"Micronesia\",\"Moldova\",\"Myanmar\",\"Namibia\",\"Nauru\",\"Nicaragua\",\"Niger\",\"Nigeria\",\"Niue\",\"North Korea\",\"Palau\",\"Papua New Guinea\",\"Peru\",\"Philippines\",\"Poland\",\"Republic of Congo\",\"Romania\",\"Russia\",\"Rwanda\",\"Saint Lucia\",\"Saint Vincent and the Grenadines\",\"Samoa\",\"Sao Tome and Principe\",\"Senegal\",\"Seychelles\",\"Sierra Leone\",\"Slovakia\",\"Slovenia\",\"Solomon Islands\",\"South Korea\",\"South Sudan\",\"Sri Lanka\",\"Sudan\",\"Suriname\",\"Taiwan\",\"Tanzania\",\"Thailand\",\"Togo\",\"Tonga\",\"Trinidad and Tobago\",\"Turkey\",\"Tuvalu\",\"Uganda\",\"Vanuatu\",\"Venezuela\",\"Viet Nam\",\"Zambia\",\"Zimbabwe\"],\"xaxis\":\"x\",\"y\":[29.471169311494698,33.1058829920747,36.3497210386706,35.8773332991086,45.542036574608844,37.601137431966194,19.644566957630403,32.777349884653404,32.3839090145561,36.03577758224535,26.9420346156713,23.42088560904905,17.58594429882085,39.62703409076795,44.03781484718125,25.48494504741765,35.5261974922311,31.3277109697848,41.03223889269305,44.0927441407904,37.35114146953125,17.6809647656747,27.21160126736885,37.146208290388046,39.355981433310305,31.2452701220028,41.80081252834005,32.4479380398704,33.72088030796115,37.76438293774965,41.0072311716539,16.982142594236848,25.7806190095687,24.88538583764595,32.075618497366,19.12359637229595,39.1145395821826,22.5051747068978,33.16936101293615,33.36319607888825,26.8897730859279,45.589510489375996,44.54467593001285,23.94149255964,20.365094001509497,45.9704185504595,38.62174816693906,42.9096636729514,38.98860290835459,33.0354576270925,23.704554588258397,44.404302161934254,32.84154148362915,22.7408366333407,49.5423667197228,42.5474557876325,47.3551384366179,30.419553228122098,24.4093924457955,33.5719743895919,26.10656593534085,16.97579922149845,17.8051497956298,17.687277014927048,34.26134786728515,49.553542901259,40.7990104015624,19.78611579031055,45.0626170195679,17.8042036026938,42.7306185737476,45.9630310094993,38.14340314916045,25.0650313574729,22.15479671865355,16.832338156397647,22.414351243534803,18.8033254897908,38.899387747443555,28.062800570688502,23.3848095571177,40.566030560586555,31.1520827933727,26.6334946022316,30.4515760544212,33.73119561322355,22.748146102786748,46.16003206504125,42.48368555439595,43.1520853739852,38.14971440048705,35.50294093467315,15.4836141696684,19.361812267827652,37.3832901729185,49.28930394376785,27.0385324368109,29.26903153399345,44.660427058265896,20.7697293121469,17.68021350365015,47.758727513527504,46.6629871161627,38.9629740187809,24.64437017314265,28.354720163098,34.37801976283865,29.15128220940165],\"yaxis\":\"y\",\"type\":\"scatter\"},{\"hovertemplate\":\"PMD_Level=Good<br>Country=%{x}<br>PMD_median=%{marker.size}<extra></extra>\",\"legendgroup\":\"Good\",\"marker\":{\"color\":\"green\",\"size\":[8.860596978243235,6.825631621580155,8.75933456849061,6.9251671899210905,12.55566728464725,9.746346625844485,7.317429783151205,14.5619206333744,5.821924236527,12.458115499204,7.372074171839635,9.240098297037925,11.5388248974777,10.085929978868425,9.49268571890417,12.41918404189795,13.480429499979,10.38840200767332,9.6802919422612,13.98866035877375,1.6549676311339199,14.505144556797799,6.091737378480795,14.06745176044495,8.926363207611391,6.39388581316544,5.496696651431314,10.972278233208701,11.527646380556465,13.4332399134092],\"sizemode\":\"area\",\"sizeref\":0.24426363649591873,\"symbol\":\"circle\"},\"mode\":\"markers\",\"name\":\"Good\",\"orientation\":\"v\",\"showlegend\":true,\"x\":[\"Algeria\",\"Armenia\",\"Belarus\",\"Botswana\",\"Cameroon\",\"China\",\"Djibouti\",\"Eswatini\",\"Gabon\",\"Ghana\",\"Guyana\",\"Iran\",\"Jordan\",\"Kazakhstan\",\"Kuwait\",\"Kyrgyzstan\",\"Lebanon\",\"Lesotho\",\"Libya\",\"Mauritania\",\"Mongolia\",\"Montenegro\",\"Morocco\",\"Nepal\",\"Serbia\",\"South Africa\",\"State of Palestine\",\"Tunisia\",\"Ukraine\",\"Yemen\"],\"xaxis\":\"x\",\"y\":[8.860596978243235,6.825631621580155,8.75933456849061,6.9251671899210905,12.55566728464725,9.746346625844485,7.317429783151205,14.5619206333744,5.821924236527,12.458115499204,7.372074171839635,9.240098297037925,11.5388248974777,10.085929978868425,9.49268571890417,12.41918404189795,13.480429499979,10.38840200767332,9.6802919422612,13.98866035877375,1.6549676311339199,14.505144556797799,6.091737378480795,14.06745176044495,8.926363207611391,6.39388581316544,5.496696651431314,10.972278233208701,11.527646380556465,13.4332399134092],\"yaxis\":\"y\",\"type\":\"scatter\"},{\"hovertemplate\":\"PMD_Level=Severe<br>Country=%{x}<br>PMD_median=%{marker.size}<extra></extra>\",\"legendgroup\":\"Severe\",\"marker\":{\"color\":\"red\",\"size\":[72.2341998806659,94.63833085709365,54.497623882561456,50.564961469738705,82.48635523810125,59.2173779587344,51.46371644718225,80.43899780290249,50.4588314790829,62.8406845290352,50.0811949713553,56.09193975514275,60.8691288525451,58.89946689849445,87.10456549453326,63.750291778899,52.49689292095185,69.5141968103635,97.7054545983675,69.05416154349464,51.047948704560355,73.0994870645158,61.09127666059155,53.6601758108217,56.697987553235706,54.8621452376904,65.2067113799825,53.5892301374475,96.1746862074294,83.8715279651221,50.01201109234485,52.48354093821515,66.37968441555151,52.2229685560076,80.10339638864676,52.11240398441235,75.7582162400159,66.37972993717915,89.89923624883579,67.5274054859407,51.426756548618556,57.9823426731192,59.915120520850195,62.79171855806965],\"sizemode\":\"area\",\"sizeref\":0.24426363649591873,\"symbol\":\"circle\"},\"mode\":\"markers\",\"name\":\"Severe\",\"orientation\":\"v\",\"showlegend\":true,\"x\":[\"Andorra\",\"Australia\",\"Austria\",\"Belgium\",\"Bermuda\",\"Brunei Darussalam\",\"Burundi\",\"Canada\",\"Comoros\",\"Cook Islands\",\"Costa Rica\",\"Denmark\",\"Estonia\",\"Ethiopia\",\"Finland\",\"France\",\"Germany\",\"Greenland\",\"Iceland\",\"Ireland\",\"Italy\",\"Japan\",\"Luxembourg\",\"Madagascar\",\"Malawi\",\"Monaco\",\"Mozambique\",\"Netherlands\",\"New Zealand\",\"Norway\",\"Panama\",\"Paraguay\",\"Portugal\",\"Saint Kitts and Nevis\",\"San Marino\",\"Singapore\",\"Somalia\",\"Spain\",\"Sweden\",\"Switzerland\",\"Timor-Leste\",\"United Kingdom\",\"United States of America\",\"Uruguay\"],\"xaxis\":\"x\",\"y\":[72.2341998806659,94.63833085709365,54.497623882561456,50.564961469738705,82.48635523810125,59.2173779587344,51.46371644718225,80.43899780290249,50.4588314790829,62.8406845290352,50.0811949713553,56.09193975514275,60.8691288525451,58.89946689849445,87.10456549453326,63.750291778899,52.49689292095185,69.5141968103635,97.7054545983675,69.05416154349464,51.047948704560355,73.0994870645158,61.09127666059155,53.6601758108217,56.697987553235706,54.8621452376904,65.2067113799825,53.5892301374475,96.1746862074294,83.8715279651221,50.01201109234485,52.48354093821515,66.37968441555151,52.2229685560076,80.10339638864676,52.11240398441235,75.7582162400159,66.37972993717915,89.89923624883579,67.5274054859407,51.426756548618556,57.9823426731192,59.915120520850195,62.79171855806965],\"yaxis\":\"y\",\"type\":\"scatter\"}],                        {\"template\":{\"data\":{\"histogram2dcontour\":[{\"type\":\"histogram2dcontour\",\"colorbar\":{\"outlinewidth\":0,\"ticks\":\"\"},\"colorscale\":[[0.0,\"#0d0887\"],[0.1111111111111111,\"#46039f\"],[0.2222222222222222,\"#7201a8\"],[0.3333333333333333,\"#9c179e\"],[0.4444444444444444,\"#bd3786\"],[0.5555555555555556,\"#d8576b\"],[0.6666666666666666,\"#ed7953\"],[0.7777777777777778,\"#fb9f3a\"],[0.8888888888888888,\"#fdca26\"],[1.0,\"#f0f921\"]]}],\"choropleth\":[{\"type\":\"choropleth\",\"colorbar\":{\"outlinewidth\":0,\"ticks\":\"\"}}],\"histogram2d\":[{\"type\":\"histogram2d\",\"colorbar\":{\"outlinewidth\":0,\"ticks\":\"\"},\"colorscale\":[[0.0,\"#0d0887\"],[0.1111111111111111,\"#46039f\"],[0.2222222222222222,\"#7201a8\"],[0.3333333333333333,\"#9c179e\"],[0.4444444444444444,\"#bd3786\"],[0.5555555555555556,\"#d8576b\"],[0.6666666666666666,\"#ed7953\"],[0.7777777777777778,\"#fb9f3a\"],[0.8888888888888888,\"#fdca26\"],[1.0,\"#f0f921\"]]}],\"heatmap\":[{\"type\":\"heatmap\",\"colorbar\":{\"outlinewidth\":0,\"ticks\":\"\"},\"colorscale\":[[0.0,\"#0d0887\"],[0.1111111111111111,\"#46039f\"],[0.2222222222222222,\"#7201a8\"],[0.3333333333333333,\"#9c179e\"],[0.4444444444444444,\"#bd3786\"],[0.5555555555555556,\"#d8576b\"],[0.6666666666666666,\"#ed7953\"],[0.7777777777777778,\"#fb9f3a\"],[0.8888888888888888,\"#fdca26\"],[1.0,\"#f0f921\"]]}],\"heatmapgl\":[{\"type\":\"heatmapgl\",\"colorbar\":{\"outlinewidth\":0,\"ticks\":\"\"},\"colorscale\":[[0.0,\"#0d0887\"],[0.1111111111111111,\"#46039f\"],[0.2222222222222222,\"#7201a8\"],[0.3333333333333333,\"#9c179e\"],[0.4444444444444444,\"#bd3786\"],[0.5555555555555556,\"#d8576b\"],[0.6666666666666666,\"#ed7953\"],[0.7777777777777778,\"#fb9f3a\"],[0.8888888888888888,\"#fdca26\"],[1.0,\"#f0f921\"]]}],\"contourcarpet\":[{\"type\":\"contourcarpet\",\"colorbar\":{\"outlinewidth\":0,\"ticks\":\"\"}}],\"contour\":[{\"type\":\"contour\",\"colorbar\":{\"outlinewidth\":0,\"ticks\":\"\"},\"colorscale\":[[0.0,\"#0d0887\"],[0.1111111111111111,\"#46039f\"],[0.2222222222222222,\"#7201a8\"],[0.3333333333333333,\"#9c179e\"],[0.4444444444444444,\"#bd3786\"],[0.5555555555555556,\"#d8576b\"],[0.6666666666666666,\"#ed7953\"],[0.7777777777777778,\"#fb9f3a\"],[0.8888888888888888,\"#fdca26\"],[1.0,\"#f0f921\"]]}],\"surface\":[{\"type\":\"surface\",\"colorbar\":{\"outlinewidth\":0,\"ticks\":\"\"},\"colorscale\":[[0.0,\"#0d0887\"],[0.1111111111111111,\"#46039f\"],[0.2222222222222222,\"#7201a8\"],[0.3333333333333333,\"#9c179e\"],[0.4444444444444444,\"#bd3786\"],[0.5555555555555556,\"#d8576b\"],[0.6666666666666666,\"#ed7953\"],[0.7777777777777778,\"#fb9f3a\"],[0.8888888888888888,\"#fdca26\"],[1.0,\"#f0f921\"]]}],\"mesh3d\":[{\"type\":\"mesh3d\",\"colorbar\":{\"outlinewidth\":0,\"ticks\":\"\"}}],\"scatter\":[{\"fillpattern\":{\"fillmode\":\"overlay\",\"size\":10,\"solidity\":0.2},\"type\":\"scatter\"}],\"parcoords\":[{\"type\":\"parcoords\",\"line\":{\"colorbar\":{\"outlinewidth\":0,\"ticks\":\"\"}}}],\"scatterpolargl\":[{\"type\":\"scatterpolargl\",\"marker\":{\"colorbar\":{\"outlinewidth\":0,\"ticks\":\"\"}}}],\"bar\":[{\"error_x\":{\"color\":\"#2a3f5f\"},\"error_y\":{\"color\":\"#2a3f5f\"},\"marker\":{\"line\":{\"color\":\"#E5ECF6\",\"width\":0.5},\"pattern\":{\"fillmode\":\"overlay\",\"size\":10,\"solidity\":0.2}},\"type\":\"bar\"}],\"scattergeo\":[{\"type\":\"scattergeo\",\"marker\":{\"colorbar\":{\"outlinewidth\":0,\"ticks\":\"\"}}}],\"scatterpolar\":[{\"type\":\"scatterpolar\",\"marker\":{\"colorbar\":{\"outlinewidth\":0,\"ticks\":\"\"}}}],\"histogram\":[{\"marker\":{\"pattern\":{\"fillmode\":\"overlay\",\"size\":10,\"solidity\":0.2}},\"type\":\"histogram\"}],\"scattergl\":[{\"type\":\"scattergl\",\"marker\":{\"colorbar\":{\"outlinewidth\":0,\"ticks\":\"\"}}}],\"scatter3d\":[{\"type\":\"scatter3d\",\"line\":{\"colorbar\":{\"outlinewidth\":0,\"ticks\":\"\"}},\"marker\":{\"colorbar\":{\"outlinewidth\":0,\"ticks\":\"\"}}}],\"scattermapbox\":[{\"type\":\"scattermapbox\",\"marker\":{\"colorbar\":{\"outlinewidth\":0,\"ticks\":\"\"}}}],\"scatterternary\":[{\"type\":\"scatterternary\",\"marker\":{\"colorbar\":{\"outlinewidth\":0,\"ticks\":\"\"}}}],\"scattercarpet\":[{\"type\":\"scattercarpet\",\"marker\":{\"colorbar\":{\"outlinewidth\":0,\"ticks\":\"\"}}}],\"carpet\":[{\"aaxis\":{\"endlinecolor\":\"#2a3f5f\",\"gridcolor\":\"white\",\"linecolor\":\"white\",\"minorgridcolor\":\"white\",\"startlinecolor\":\"#2a3f5f\"},\"baxis\":{\"endlinecolor\":\"#2a3f5f\",\"gridcolor\":\"white\",\"linecolor\":\"white\",\"minorgridcolor\":\"white\",\"startlinecolor\":\"#2a3f5f\"},\"type\":\"carpet\"}],\"table\":[{\"cells\":{\"fill\":{\"color\":\"#EBF0F8\"},\"line\":{\"color\":\"white\"}},\"header\":{\"fill\":{\"color\":\"#C8D4E3\"},\"line\":{\"color\":\"white\"}},\"type\":\"table\"}],\"barpolar\":[{\"marker\":{\"line\":{\"color\":\"#E5ECF6\",\"width\":0.5},\"pattern\":{\"fillmode\":\"overlay\",\"size\":10,\"solidity\":0.2}},\"type\":\"barpolar\"}],\"pie\":[{\"automargin\":true,\"type\":\"pie\"}]},\"layout\":{\"autotypenumbers\":\"strict\",\"colorway\":[\"#636efa\",\"#EF553B\",\"#00cc96\",\"#ab63fa\",\"#FFA15A\",\"#19d3f3\",\"#FF6692\",\"#B6E880\",\"#FF97FF\",\"#FECB52\"],\"font\":{\"color\":\"#2a3f5f\"},\"hovermode\":\"closest\",\"hoverlabel\":{\"align\":\"left\"},\"paper_bgcolor\":\"white\",\"plot_bgcolor\":\"#E5ECF6\",\"polar\":{\"bgcolor\":\"#E5ECF6\",\"angularaxis\":{\"gridcolor\":\"white\",\"linecolor\":\"white\",\"ticks\":\"\"},\"radialaxis\":{\"gridcolor\":\"white\",\"linecolor\":\"white\",\"ticks\":\"\"}},\"ternary\":{\"bgcolor\":\"#E5ECF6\",\"aaxis\":{\"gridcolor\":\"white\",\"linecolor\":\"white\",\"ticks\":\"\"},\"baxis\":{\"gridcolor\":\"white\",\"linecolor\":\"white\",\"ticks\":\"\"},\"caxis\":{\"gridcolor\":\"white\",\"linecolor\":\"white\",\"ticks\":\"\"}},\"coloraxis\":{\"colorbar\":{\"outlinewidth\":0,\"ticks\":\"\"}},\"colorscale\":{\"sequential\":[[0.0,\"#0d0887\"],[0.1111111111111111,\"#46039f\"],[0.2222222222222222,\"#7201a8\"],[0.3333333333333333,\"#9c179e\"],[0.4444444444444444,\"#bd3786\"],[0.5555555555555556,\"#d8576b\"],[0.6666666666666666,\"#ed7953\"],[0.7777777777777778,\"#fb9f3a\"],[0.8888888888888888,\"#fdca26\"],[1.0,\"#f0f921\"]],\"sequentialminus\":[[0.0,\"#0d0887\"],[0.1111111111111111,\"#46039f\"],[0.2222222222222222,\"#7201a8\"],[0.3333333333333333,\"#9c179e\"],[0.4444444444444444,\"#bd3786\"],[0.5555555555555556,\"#d8576b\"],[0.6666666666666666,\"#ed7953\"],[0.7777777777777778,\"#fb9f3a\"],[0.8888888888888888,\"#fdca26\"],[1.0,\"#f0f921\"]],\"diverging\":[[0,\"#8e0152\"],[0.1,\"#c51b7d\"],[0.2,\"#de77ae\"],[0.3,\"#f1b6da\"],[0.4,\"#fde0ef\"],[0.5,\"#f7f7f7\"],[0.6,\"#e6f5d0\"],[0.7,\"#b8e186\"],[0.8,\"#7fbc41\"],[0.9,\"#4d9221\"],[1,\"#276419\"]]},\"xaxis\":{\"gridcolor\":\"white\",\"linecolor\":\"white\",\"ticks\":\"\",\"title\":{\"standoff\":15},\"zerolinecolor\":\"white\",\"automargin\":true,\"zerolinewidth\":2},\"yaxis\":{\"gridcolor\":\"white\",\"linecolor\":\"white\",\"ticks\":\"\",\"title\":{\"standoff\":15},\"zerolinecolor\":\"white\",\"automargin\":true,\"zerolinewidth\":2},\"scene\":{\"xaxis\":{\"backgroundcolor\":\"#E5ECF6\",\"gridcolor\":\"white\",\"linecolor\":\"white\",\"showbackground\":true,\"ticks\":\"\",\"zerolinecolor\":\"white\",\"gridwidth\":2},\"yaxis\":{\"backgroundcolor\":\"#E5ECF6\",\"gridcolor\":\"white\",\"linecolor\":\"white\",\"showbackground\":true,\"ticks\":\"\",\"zerolinecolor\":\"white\",\"gridwidth\":2},\"zaxis\":{\"backgroundcolor\":\"#E5ECF6\",\"gridcolor\":\"white\",\"linecolor\":\"white\",\"showbackground\":true,\"ticks\":\"\",\"zerolinecolor\":\"white\",\"gridwidth\":2}},\"shapedefaults\":{\"line\":{\"color\":\"#2a3f5f\"}},\"annotationdefaults\":{\"arrowcolor\":\"#2a3f5f\",\"arrowhead\":0,\"arrowwidth\":1},\"geo\":{\"bgcolor\":\"white\",\"landcolor\":\"#E5ECF6\",\"subunitcolor\":\"white\",\"showland\":true,\"showlakes\":true,\"lakecolor\":\"white\"},\"title\":{\"x\":0.05},\"mapbox\":{\"style\":\"light\"}}},\"xaxis\":{\"anchor\":\"y\",\"domain\":[0.0,1.0],\"title\":{\"text\":\"Country\"},\"tickangle\":90},\"yaxis\":{\"anchor\":\"x\",\"domain\":[0.0,1.0],\"title\":{\"text\":\"Median PMD\"}},\"legend\":{\"title\":{\"text\":\"PMD_Level\"},\"tracegroupgap\":0,\"itemsizing\":\"constant\"},\"title\":{\"text\":\"Scatter Plot of Median PMD for All Countries\"},\"height\":600,\"width\":1000},                        {\"responsive\": true}                    ).then(function(){\n",
       "                            \n",
       "var gd = document.getElementById('21c0e2d3-d807-491c-90c6-630d5951e760');\n",
       "var x = new MutationObserver(function (mutations, observer) {{\n",
       "        var display = window.getComputedStyle(gd).display;\n",
       "        if (!display || display === 'none') {{\n",
       "            console.log([gd, 'removed!']);\n",
       "            Plotly.purge(gd);\n",
       "            observer.disconnect();\n",
       "        }}\n",
       "}});\n",
       "\n",
       "// Listen for the removal of the full notebook cells\n",
       "var notebookContainer = gd.closest('#notebook-container');\n",
       "if (notebookContainer) {{\n",
       "    x.observe(notebookContainer, {childList: true});\n",
       "}}\n",
       "\n",
       "// Listen for the clearing of the current output cell\n",
       "var outputEl = gd.closest('.output');\n",
       "if (outputEl) {{\n",
       "    x.observe(outputEl, {childList: true});\n",
       "}}\n",
       "\n",
       "                        })                };                });            </script>        </div>"
      ]
     },
     "metadata": {},
     "output_type": "display_data"
    }
   ],
   "source": [
    "import pandas as pd\n",
    "import numpy as np\n",
    "import plotly.express as px\n",
    "\n",
    "class SymbolDataProcessor:\n",
    "    def __init__(self, symbol):\n",
    "        \"\"\"\n",
    "        Initialize the class with a symbol and load the corresponding file.\n",
    "        \"\"\"\n",
    "        self.symbol = symbol\n",
    "        self.file_name = f\"{symbol}_ind.csv\"\n",
    "        self.data = None\n",
    "        self.years = []\n",
    "\n",
    "    def load_data(self):\n",
    "        \"\"\"\n",
    "        Load the CSV file, process the data, and remove invalid or NaN values.\n",
    "        \"\"\"\n",
    "        # Read the CSV file\n",
    "        self.data = pd.read_csv(self.file_name)\n",
    "\n",
    "        # Extract years from column names\n",
    "        for col in self.data.columns:\n",
    "            if col.startswith(self.symbol + '.ind'):\n",
    "                year = col.split('.')[-1]\n",
    "                self.years.append(year)\n",
    "\n",
    "        # Replace invalid values with NaN\n",
    "        self.data.replace({0: np.nan, -8888: np.nan, -7777: np.nan, -9999: np.nan}, inplace=True)\n",
    "\n",
    "        # Drop rows with NaN values\n",
    "        self.data.dropna(inplace=True)\n",
    "\n",
    "        # Extract PMD-related columns and compute the median PMD\n",
    "        columns = [col for col in self.data.columns if col.startswith(self.symbol + '.ind')]\n",
    "        self.data[self.symbol+'_median'] = self.data[columns].median(axis=1)\n",
    "\n",
    "        # Drop rows with NaN values in the PMD_mean column\n",
    "        self.data = self.data.dropna(subset=[self.symbol+'_median'])\n",
    "\n",
    "        # Categorize PMD levels\n",
    "        self.data[self.symbol+'_Level'] = self.data[self.symbol+'_median'].apply(self.categorize)\n",
    "\n",
    "        # Set PMD_Level as a categorical variable with a specific order\n",
    "        self.data[self.symbol+'_Level'] = pd.Categorical(\n",
    "            self.data[self.symbol+'_Level'], \n",
    "            categories=['Good', 'Moderate', 'Severe'], \n",
    "            ordered=True\n",
    "        )\n",
    "\n",
    "    @staticmethod\n",
    "    def categorize(value):\n",
    "        \"\"\"\n",
    "        Categorize PMD into Good, Moderate, and Severe levels.\n",
    "        \"\"\"\n",
    "        if value < 15:\n",
    "            return 'Good'\n",
    "        elif 15 <= value <= 50:\n",
    "            return 'Moderate'\n",
    "        else:\n",
    "            return 'Severe'\n",
    "\n",
    "    def plot(self):\n",
    "        \"\"\"\n",
    "        Plot a scatter plot of the mean PMD for all countries using Plotly.\n",
    "        \"\"\"\n",
    "        if self.data is None:\n",
    "            raise ValueError(\"Data not loaded. Call `load_data()` first.\")\n",
    "\n",
    "        # Define a color map\n",
    "        color_map = {\n",
    "            'Good': 'green',\n",
    "            'Moderate': 'orange',\n",
    "            'Severe': 'red'\n",
    "        }\n",
    "\n",
    "        # Plot the data\n",
    "        fig = px.scatter(\n",
    "            self.data,\n",
    "            x='country',\n",
    "            y=self.symbol+'_median',\n",
    "            size=self.symbol+'_median',\n",
    "            color=self.symbol+'_Level',\n",
    "            color_discrete_map=color_map,\n",
    "            title=f'Scatter Plot of Median {self.symbol} for All Countries',\n",
    "            labels={'median': f'Median {self.symbol}', 'country': 'Country'},\n",
    "            template='plotly'\n",
    "        )\n",
    "\n",
    "        fig.update_layout(\n",
    "            xaxis_title='Country',\n",
    "            yaxis_title=f'Median {self.symbol}',\n",
    "            xaxis=dict(tickangle=90),  # Rotate x-axis labels\n",
    "            height=600,\n",
    "            width=1000\n",
    "        )\n",
    "\n",
    "        fig.show()\n",
    "\n",
    "#  Usage\n",
    "if __name__ == \"__main__\":\n",
    "    symbol = 'PMD'\n",
    "    processor = SymbolDataProcessor(symbol)\n",
    "\n",
    "    # Load data\n",
    "    processor.load_data()\n",
    "\n",
    "    # Plot the PMD scatter plot\n",
    "    processor.plot()\n",
    "\n",
    " "
   ]
  },
  {
   "cell_type": "markdown",
   "id": "cd8159fb",
   "metadata": {},
   "source": [
    "## This code snippet allows you to visualize the time series variation of any environmental symbol for specific countries. This can help track changes over time and provide deeper insights."
   ]
  },
  {
   "cell_type": "code",
   "execution_count": 5,
   "id": "e5c5bf16",
   "metadata": {},
   "outputs": [
    {
     "data": {
      "application/vnd.plotly.v1+json": {
       "config": {
        "plotlyServerURL": "https://plot.ly"
       },
       "data": [
        {
         "mode": "lines+markers",
         "name": "France PMD",
         "type": "scatter",
         "x": [
          1995,
          1996,
          1997,
          1998,
          1999,
          2000,
          2001,
          2002,
          2003,
          2004,
          2005,
          2006,
          2007,
          2008,
          2009,
          2010,
          2011,
          2012,
          2013,
          2014,
          2015,
          2016,
          2017,
          2018,
          2019,
          2020,
          2021,
          2022
         ],
         "y": [
          48.1608444486692,
          48.3318377831341,
          49.4319970045888,
          49.8879011007239,
          53.0042505157087,
          55.035530220681,
          56.9189118512817,
          52.1329476540171,
          52.4754041534167,
          53.23465373746,
          55.9373597529699,
          57.5292792124305,
          58.8146563495115,
          60.4463238956856,
          59.6047105798545,
          59.2620787929642,
          59.9485799480339,
          59.8527369271433,
          59.3232038100526,
          58.5399926564247,
          59.5148606341901,
          61.7216440054025,
          63.675761136724,
          61.4031081171866,
          61.4703461352579,
          61.4703461352579,
          61.4703461352579,
          61.4703461352579
         ]
        }
       ],
       "layout": {
        "height": 500,
        "template": {
         "data": {
          "bar": [
           {
            "error_x": {
             "color": "#2a3f5f"
            },
            "error_y": {
             "color": "#2a3f5f"
            },
            "marker": {
             "line": {
              "color": "white",
              "width": 0.5
             },
             "pattern": {
              "fillmode": "overlay",
              "size": 10,
              "solidity": 0.2
             }
            },
            "type": "bar"
           }
          ],
          "barpolar": [
           {
            "marker": {
             "line": {
              "color": "white",
              "width": 0.5
             },
             "pattern": {
              "fillmode": "overlay",
              "size": 10,
              "solidity": 0.2
             }
            },
            "type": "barpolar"
           }
          ],
          "carpet": [
           {
            "aaxis": {
             "endlinecolor": "#2a3f5f",
             "gridcolor": "#C8D4E3",
             "linecolor": "#C8D4E3",
             "minorgridcolor": "#C8D4E3",
             "startlinecolor": "#2a3f5f"
            },
            "baxis": {
             "endlinecolor": "#2a3f5f",
             "gridcolor": "#C8D4E3",
             "linecolor": "#C8D4E3",
             "minorgridcolor": "#C8D4E3",
             "startlinecolor": "#2a3f5f"
            },
            "type": "carpet"
           }
          ],
          "choropleth": [
           {
            "colorbar": {
             "outlinewidth": 0,
             "ticks": ""
            },
            "type": "choropleth"
           }
          ],
          "contour": [
           {
            "colorbar": {
             "outlinewidth": 0,
             "ticks": ""
            },
            "colorscale": [
             [
              0,
              "#0d0887"
             ],
             [
              0.1111111111111111,
              "#46039f"
             ],
             [
              0.2222222222222222,
              "#7201a8"
             ],
             [
              0.3333333333333333,
              "#9c179e"
             ],
             [
              0.4444444444444444,
              "#bd3786"
             ],
             [
              0.5555555555555556,
              "#d8576b"
             ],
             [
              0.6666666666666666,
              "#ed7953"
             ],
             [
              0.7777777777777778,
              "#fb9f3a"
             ],
             [
              0.8888888888888888,
              "#fdca26"
             ],
             [
              1,
              "#f0f921"
             ]
            ],
            "type": "contour"
           }
          ],
          "contourcarpet": [
           {
            "colorbar": {
             "outlinewidth": 0,
             "ticks": ""
            },
            "type": "contourcarpet"
           }
          ],
          "heatmap": [
           {
            "colorbar": {
             "outlinewidth": 0,
             "ticks": ""
            },
            "colorscale": [
             [
              0,
              "#0d0887"
             ],
             [
              0.1111111111111111,
              "#46039f"
             ],
             [
              0.2222222222222222,
              "#7201a8"
             ],
             [
              0.3333333333333333,
              "#9c179e"
             ],
             [
              0.4444444444444444,
              "#bd3786"
             ],
             [
              0.5555555555555556,
              "#d8576b"
             ],
             [
              0.6666666666666666,
              "#ed7953"
             ],
             [
              0.7777777777777778,
              "#fb9f3a"
             ],
             [
              0.8888888888888888,
              "#fdca26"
             ],
             [
              1,
              "#f0f921"
             ]
            ],
            "type": "heatmap"
           }
          ],
          "heatmapgl": [
           {
            "colorbar": {
             "outlinewidth": 0,
             "ticks": ""
            },
            "colorscale": [
             [
              0,
              "#0d0887"
             ],
             [
              0.1111111111111111,
              "#46039f"
             ],
             [
              0.2222222222222222,
              "#7201a8"
             ],
             [
              0.3333333333333333,
              "#9c179e"
             ],
             [
              0.4444444444444444,
              "#bd3786"
             ],
             [
              0.5555555555555556,
              "#d8576b"
             ],
             [
              0.6666666666666666,
              "#ed7953"
             ],
             [
              0.7777777777777778,
              "#fb9f3a"
             ],
             [
              0.8888888888888888,
              "#fdca26"
             ],
             [
              1,
              "#f0f921"
             ]
            ],
            "type": "heatmapgl"
           }
          ],
          "histogram": [
           {
            "marker": {
             "pattern": {
              "fillmode": "overlay",
              "size": 10,
              "solidity": 0.2
             }
            },
            "type": "histogram"
           }
          ],
          "histogram2d": [
           {
            "colorbar": {
             "outlinewidth": 0,
             "ticks": ""
            },
            "colorscale": [
             [
              0,
              "#0d0887"
             ],
             [
              0.1111111111111111,
              "#46039f"
             ],
             [
              0.2222222222222222,
              "#7201a8"
             ],
             [
              0.3333333333333333,
              "#9c179e"
             ],
             [
              0.4444444444444444,
              "#bd3786"
             ],
             [
              0.5555555555555556,
              "#d8576b"
             ],
             [
              0.6666666666666666,
              "#ed7953"
             ],
             [
              0.7777777777777778,
              "#fb9f3a"
             ],
             [
              0.8888888888888888,
              "#fdca26"
             ],
             [
              1,
              "#f0f921"
             ]
            ],
            "type": "histogram2d"
           }
          ],
          "histogram2dcontour": [
           {
            "colorbar": {
             "outlinewidth": 0,
             "ticks": ""
            },
            "colorscale": [
             [
              0,
              "#0d0887"
             ],
             [
              0.1111111111111111,
              "#46039f"
             ],
             [
              0.2222222222222222,
              "#7201a8"
             ],
             [
              0.3333333333333333,
              "#9c179e"
             ],
             [
              0.4444444444444444,
              "#bd3786"
             ],
             [
              0.5555555555555556,
              "#d8576b"
             ],
             [
              0.6666666666666666,
              "#ed7953"
             ],
             [
              0.7777777777777778,
              "#fb9f3a"
             ],
             [
              0.8888888888888888,
              "#fdca26"
             ],
             [
              1,
              "#f0f921"
             ]
            ],
            "type": "histogram2dcontour"
           }
          ],
          "mesh3d": [
           {
            "colorbar": {
             "outlinewidth": 0,
             "ticks": ""
            },
            "type": "mesh3d"
           }
          ],
          "parcoords": [
           {
            "line": {
             "colorbar": {
              "outlinewidth": 0,
              "ticks": ""
             }
            },
            "type": "parcoords"
           }
          ],
          "pie": [
           {
            "automargin": true,
            "type": "pie"
           }
          ],
          "scatter": [
           {
            "fillpattern": {
             "fillmode": "overlay",
             "size": 10,
             "solidity": 0.2
            },
            "type": "scatter"
           }
          ],
          "scatter3d": [
           {
            "line": {
             "colorbar": {
              "outlinewidth": 0,
              "ticks": ""
             }
            },
            "marker": {
             "colorbar": {
              "outlinewidth": 0,
              "ticks": ""
             }
            },
            "type": "scatter3d"
           }
          ],
          "scattercarpet": [
           {
            "marker": {
             "colorbar": {
              "outlinewidth": 0,
              "ticks": ""
             }
            },
            "type": "scattercarpet"
           }
          ],
          "scattergeo": [
           {
            "marker": {
             "colorbar": {
              "outlinewidth": 0,
              "ticks": ""
             }
            },
            "type": "scattergeo"
           }
          ],
          "scattergl": [
           {
            "marker": {
             "colorbar": {
              "outlinewidth": 0,
              "ticks": ""
             }
            },
            "type": "scattergl"
           }
          ],
          "scattermapbox": [
           {
            "marker": {
             "colorbar": {
              "outlinewidth": 0,
              "ticks": ""
             }
            },
            "type": "scattermapbox"
           }
          ],
          "scatterpolar": [
           {
            "marker": {
             "colorbar": {
              "outlinewidth": 0,
              "ticks": ""
             }
            },
            "type": "scatterpolar"
           }
          ],
          "scatterpolargl": [
           {
            "marker": {
             "colorbar": {
              "outlinewidth": 0,
              "ticks": ""
             }
            },
            "type": "scatterpolargl"
           }
          ],
          "scatterternary": [
           {
            "marker": {
             "colorbar": {
              "outlinewidth": 0,
              "ticks": ""
             }
            },
            "type": "scatterternary"
           }
          ],
          "surface": [
           {
            "colorbar": {
             "outlinewidth": 0,
             "ticks": ""
            },
            "colorscale": [
             [
              0,
              "#0d0887"
             ],
             [
              0.1111111111111111,
              "#46039f"
             ],
             [
              0.2222222222222222,
              "#7201a8"
             ],
             [
              0.3333333333333333,
              "#9c179e"
             ],
             [
              0.4444444444444444,
              "#bd3786"
             ],
             [
              0.5555555555555556,
              "#d8576b"
             ],
             [
              0.6666666666666666,
              "#ed7953"
             ],
             [
              0.7777777777777778,
              "#fb9f3a"
             ],
             [
              0.8888888888888888,
              "#fdca26"
             ],
             [
              1,
              "#f0f921"
             ]
            ],
            "type": "surface"
           }
          ],
          "table": [
           {
            "cells": {
             "fill": {
              "color": "#EBF0F8"
             },
             "line": {
              "color": "white"
             }
            },
            "header": {
             "fill": {
              "color": "#C8D4E3"
             },
             "line": {
              "color": "white"
             }
            },
            "type": "table"
           }
          ]
         },
         "layout": {
          "annotationdefaults": {
           "arrowcolor": "#2a3f5f",
           "arrowhead": 0,
           "arrowwidth": 1
          },
          "autotypenumbers": "strict",
          "coloraxis": {
           "colorbar": {
            "outlinewidth": 0,
            "ticks": ""
           }
          },
          "colorscale": {
           "diverging": [
            [
             0,
             "#8e0152"
            ],
            [
             0.1,
             "#c51b7d"
            ],
            [
             0.2,
             "#de77ae"
            ],
            [
             0.3,
             "#f1b6da"
            ],
            [
             0.4,
             "#fde0ef"
            ],
            [
             0.5,
             "#f7f7f7"
            ],
            [
             0.6,
             "#e6f5d0"
            ],
            [
             0.7,
             "#b8e186"
            ],
            [
             0.8,
             "#7fbc41"
            ],
            [
             0.9,
             "#4d9221"
            ],
            [
             1,
             "#276419"
            ]
           ],
           "sequential": [
            [
             0,
             "#0d0887"
            ],
            [
             0.1111111111111111,
             "#46039f"
            ],
            [
             0.2222222222222222,
             "#7201a8"
            ],
            [
             0.3333333333333333,
             "#9c179e"
            ],
            [
             0.4444444444444444,
             "#bd3786"
            ],
            [
             0.5555555555555556,
             "#d8576b"
            ],
            [
             0.6666666666666666,
             "#ed7953"
            ],
            [
             0.7777777777777778,
             "#fb9f3a"
            ],
            [
             0.8888888888888888,
             "#fdca26"
            ],
            [
             1,
             "#f0f921"
            ]
           ],
           "sequentialminus": [
            [
             0,
             "#0d0887"
            ],
            [
             0.1111111111111111,
             "#46039f"
            ],
            [
             0.2222222222222222,
             "#7201a8"
            ],
            [
             0.3333333333333333,
             "#9c179e"
            ],
            [
             0.4444444444444444,
             "#bd3786"
            ],
            [
             0.5555555555555556,
             "#d8576b"
            ],
            [
             0.6666666666666666,
             "#ed7953"
            ],
            [
             0.7777777777777778,
             "#fb9f3a"
            ],
            [
             0.8888888888888888,
             "#fdca26"
            ],
            [
             1,
             "#f0f921"
            ]
           ]
          },
          "colorway": [
           "#636efa",
           "#EF553B",
           "#00cc96",
           "#ab63fa",
           "#FFA15A",
           "#19d3f3",
           "#FF6692",
           "#B6E880",
           "#FF97FF",
           "#FECB52"
          ],
          "font": {
           "color": "#2a3f5f"
          },
          "geo": {
           "bgcolor": "white",
           "lakecolor": "white",
           "landcolor": "white",
           "showlakes": true,
           "showland": true,
           "subunitcolor": "#C8D4E3"
          },
          "hoverlabel": {
           "align": "left"
          },
          "hovermode": "closest",
          "mapbox": {
           "style": "light"
          },
          "paper_bgcolor": "white",
          "plot_bgcolor": "white",
          "polar": {
           "angularaxis": {
            "gridcolor": "#EBF0F8",
            "linecolor": "#EBF0F8",
            "ticks": ""
           },
           "bgcolor": "white",
           "radialaxis": {
            "gridcolor": "#EBF0F8",
            "linecolor": "#EBF0F8",
            "ticks": ""
           }
          },
          "scene": {
           "xaxis": {
            "backgroundcolor": "white",
            "gridcolor": "#DFE8F3",
            "gridwidth": 2,
            "linecolor": "#EBF0F8",
            "showbackground": true,
            "ticks": "",
            "zerolinecolor": "#EBF0F8"
           },
           "yaxis": {
            "backgroundcolor": "white",
            "gridcolor": "#DFE8F3",
            "gridwidth": 2,
            "linecolor": "#EBF0F8",
            "showbackground": true,
            "ticks": "",
            "zerolinecolor": "#EBF0F8"
           },
           "zaxis": {
            "backgroundcolor": "white",
            "gridcolor": "#DFE8F3",
            "gridwidth": 2,
            "linecolor": "#EBF0F8",
            "showbackground": true,
            "ticks": "",
            "zerolinecolor": "#EBF0F8"
           }
          },
          "shapedefaults": {
           "line": {
            "color": "#2a3f5f"
           }
          },
          "ternary": {
           "aaxis": {
            "gridcolor": "#DFE8F3",
            "linecolor": "#A2B1C6",
            "ticks": ""
           },
           "baxis": {
            "gridcolor": "#DFE8F3",
            "linecolor": "#A2B1C6",
            "ticks": ""
           },
           "bgcolor": "white",
           "caxis": {
            "gridcolor": "#DFE8F3",
            "linecolor": "#A2B1C6",
            "ticks": ""
           }
          },
          "title": {
           "x": 0.05
          },
          "xaxis": {
           "automargin": true,
           "gridcolor": "#EBF0F8",
           "linecolor": "#EBF0F8",
           "ticks": "",
           "title": {
            "standoff": 15
           },
           "zerolinecolor": "#EBF0F8",
           "zerolinewidth": 2
          },
          "yaxis": {
           "automargin": true,
           "gridcolor": "#EBF0F8",
           "linecolor": "#EBF0F8",
           "ticks": "",
           "title": {
            "standoff": 15
           },
           "zerolinecolor": "#EBF0F8",
           "zerolinewidth": 2
          }
         }
        },
        "title": {
         "text": "Time Series of OZD for France"
        },
        "width": 800,
        "xaxis": {
         "title": {
          "text": "Year"
         }
        },
        "yaxis": {
         "title": {
          "text": "OZD"
         }
        }
       }
      },
      "text/html": [
       "<div>                            <div id=\"2579c0f7-d6b5-43c9-a42c-a57471c788d5\" class=\"plotly-graph-div\" style=\"height:500px; width:800px;\"></div>            <script type=\"text/javascript\">                require([\"plotly\"], function(Plotly) {                    window.PLOTLYENV=window.PLOTLYENV || {};                                    if (document.getElementById(\"2579c0f7-d6b5-43c9-a42c-a57471c788d5\")) {                    Plotly.newPlot(                        \"2579c0f7-d6b5-43c9-a42c-a57471c788d5\",                        [{\"mode\":\"lines+markers\",\"name\":\"France PMD\",\"x\":[1995,1996,1997,1998,1999,2000,2001,2002,2003,2004,2005,2006,2007,2008,2009,2010,2011,2012,2013,2014,2015,2016,2017,2018,2019,2020,2021,2022],\"y\":[48.1608444486692,48.3318377831341,49.4319970045888,49.8879011007239,53.0042505157087,55.035530220681,56.9189118512817,52.1329476540171,52.4754041534167,53.23465373746,55.9373597529699,57.5292792124305,58.8146563495115,60.4463238956856,59.6047105798545,59.2620787929642,59.9485799480339,59.8527369271433,59.3232038100526,58.5399926564247,59.5148606341901,61.7216440054025,63.675761136724,61.4031081171866,61.4703461352579,61.4703461352579,61.4703461352579,61.4703461352579],\"type\":\"scatter\"}],                        {\"template\":{\"data\":{\"barpolar\":[{\"marker\":{\"line\":{\"color\":\"white\",\"width\":0.5},\"pattern\":{\"fillmode\":\"overlay\",\"size\":10,\"solidity\":0.2}},\"type\":\"barpolar\"}],\"bar\":[{\"error_x\":{\"color\":\"#2a3f5f\"},\"error_y\":{\"color\":\"#2a3f5f\"},\"marker\":{\"line\":{\"color\":\"white\",\"width\":0.5},\"pattern\":{\"fillmode\":\"overlay\",\"size\":10,\"solidity\":0.2}},\"type\":\"bar\"}],\"carpet\":[{\"aaxis\":{\"endlinecolor\":\"#2a3f5f\",\"gridcolor\":\"#C8D4E3\",\"linecolor\":\"#C8D4E3\",\"minorgridcolor\":\"#C8D4E3\",\"startlinecolor\":\"#2a3f5f\"},\"baxis\":{\"endlinecolor\":\"#2a3f5f\",\"gridcolor\":\"#C8D4E3\",\"linecolor\":\"#C8D4E3\",\"minorgridcolor\":\"#C8D4E3\",\"startlinecolor\":\"#2a3f5f\"},\"type\":\"carpet\"}],\"choropleth\":[{\"colorbar\":{\"outlinewidth\":0,\"ticks\":\"\"},\"type\":\"choropleth\"}],\"contourcarpet\":[{\"colorbar\":{\"outlinewidth\":0,\"ticks\":\"\"},\"type\":\"contourcarpet\"}],\"contour\":[{\"colorbar\":{\"outlinewidth\":0,\"ticks\":\"\"},\"colorscale\":[[0.0,\"#0d0887\"],[0.1111111111111111,\"#46039f\"],[0.2222222222222222,\"#7201a8\"],[0.3333333333333333,\"#9c179e\"],[0.4444444444444444,\"#bd3786\"],[0.5555555555555556,\"#d8576b\"],[0.6666666666666666,\"#ed7953\"],[0.7777777777777778,\"#fb9f3a\"],[0.8888888888888888,\"#fdca26\"],[1.0,\"#f0f921\"]],\"type\":\"contour\"}],\"heatmapgl\":[{\"colorbar\":{\"outlinewidth\":0,\"ticks\":\"\"},\"colorscale\":[[0.0,\"#0d0887\"],[0.1111111111111111,\"#46039f\"],[0.2222222222222222,\"#7201a8\"],[0.3333333333333333,\"#9c179e\"],[0.4444444444444444,\"#bd3786\"],[0.5555555555555556,\"#d8576b\"],[0.6666666666666666,\"#ed7953\"],[0.7777777777777778,\"#fb9f3a\"],[0.8888888888888888,\"#fdca26\"],[1.0,\"#f0f921\"]],\"type\":\"heatmapgl\"}],\"heatmap\":[{\"colorbar\":{\"outlinewidth\":0,\"ticks\":\"\"},\"colorscale\":[[0.0,\"#0d0887\"],[0.1111111111111111,\"#46039f\"],[0.2222222222222222,\"#7201a8\"],[0.3333333333333333,\"#9c179e\"],[0.4444444444444444,\"#bd3786\"],[0.5555555555555556,\"#d8576b\"],[0.6666666666666666,\"#ed7953\"],[0.7777777777777778,\"#fb9f3a\"],[0.8888888888888888,\"#fdca26\"],[1.0,\"#f0f921\"]],\"type\":\"heatmap\"}],\"histogram2dcontour\":[{\"colorbar\":{\"outlinewidth\":0,\"ticks\":\"\"},\"colorscale\":[[0.0,\"#0d0887\"],[0.1111111111111111,\"#46039f\"],[0.2222222222222222,\"#7201a8\"],[0.3333333333333333,\"#9c179e\"],[0.4444444444444444,\"#bd3786\"],[0.5555555555555556,\"#d8576b\"],[0.6666666666666666,\"#ed7953\"],[0.7777777777777778,\"#fb9f3a\"],[0.8888888888888888,\"#fdca26\"],[1.0,\"#f0f921\"]],\"type\":\"histogram2dcontour\"}],\"histogram2d\":[{\"colorbar\":{\"outlinewidth\":0,\"ticks\":\"\"},\"colorscale\":[[0.0,\"#0d0887\"],[0.1111111111111111,\"#46039f\"],[0.2222222222222222,\"#7201a8\"],[0.3333333333333333,\"#9c179e\"],[0.4444444444444444,\"#bd3786\"],[0.5555555555555556,\"#d8576b\"],[0.6666666666666666,\"#ed7953\"],[0.7777777777777778,\"#fb9f3a\"],[0.8888888888888888,\"#fdca26\"],[1.0,\"#f0f921\"]],\"type\":\"histogram2d\"}],\"histogram\":[{\"marker\":{\"pattern\":{\"fillmode\":\"overlay\",\"size\":10,\"solidity\":0.2}},\"type\":\"histogram\"}],\"mesh3d\":[{\"colorbar\":{\"outlinewidth\":0,\"ticks\":\"\"},\"type\":\"mesh3d\"}],\"parcoords\":[{\"line\":{\"colorbar\":{\"outlinewidth\":0,\"ticks\":\"\"}},\"type\":\"parcoords\"}],\"pie\":[{\"automargin\":true,\"type\":\"pie\"}],\"scatter3d\":[{\"line\":{\"colorbar\":{\"outlinewidth\":0,\"ticks\":\"\"}},\"marker\":{\"colorbar\":{\"outlinewidth\":0,\"ticks\":\"\"}},\"type\":\"scatter3d\"}],\"scattercarpet\":[{\"marker\":{\"colorbar\":{\"outlinewidth\":0,\"ticks\":\"\"}},\"type\":\"scattercarpet\"}],\"scattergeo\":[{\"marker\":{\"colorbar\":{\"outlinewidth\":0,\"ticks\":\"\"}},\"type\":\"scattergeo\"}],\"scattergl\":[{\"marker\":{\"colorbar\":{\"outlinewidth\":0,\"ticks\":\"\"}},\"type\":\"scattergl\"}],\"scattermapbox\":[{\"marker\":{\"colorbar\":{\"outlinewidth\":0,\"ticks\":\"\"}},\"type\":\"scattermapbox\"}],\"scatterpolargl\":[{\"marker\":{\"colorbar\":{\"outlinewidth\":0,\"ticks\":\"\"}},\"type\":\"scatterpolargl\"}],\"scatterpolar\":[{\"marker\":{\"colorbar\":{\"outlinewidth\":0,\"ticks\":\"\"}},\"type\":\"scatterpolar\"}],\"scatter\":[{\"fillpattern\":{\"fillmode\":\"overlay\",\"size\":10,\"solidity\":0.2},\"type\":\"scatter\"}],\"scatterternary\":[{\"marker\":{\"colorbar\":{\"outlinewidth\":0,\"ticks\":\"\"}},\"type\":\"scatterternary\"}],\"surface\":[{\"colorbar\":{\"outlinewidth\":0,\"ticks\":\"\"},\"colorscale\":[[0.0,\"#0d0887\"],[0.1111111111111111,\"#46039f\"],[0.2222222222222222,\"#7201a8\"],[0.3333333333333333,\"#9c179e\"],[0.4444444444444444,\"#bd3786\"],[0.5555555555555556,\"#d8576b\"],[0.6666666666666666,\"#ed7953\"],[0.7777777777777778,\"#fb9f3a\"],[0.8888888888888888,\"#fdca26\"],[1.0,\"#f0f921\"]],\"type\":\"surface\"}],\"table\":[{\"cells\":{\"fill\":{\"color\":\"#EBF0F8\"},\"line\":{\"color\":\"white\"}},\"header\":{\"fill\":{\"color\":\"#C8D4E3\"},\"line\":{\"color\":\"white\"}},\"type\":\"table\"}]},\"layout\":{\"annotationdefaults\":{\"arrowcolor\":\"#2a3f5f\",\"arrowhead\":0,\"arrowwidth\":1},\"autotypenumbers\":\"strict\",\"coloraxis\":{\"colorbar\":{\"outlinewidth\":0,\"ticks\":\"\"}},\"colorscale\":{\"diverging\":[[0,\"#8e0152\"],[0.1,\"#c51b7d\"],[0.2,\"#de77ae\"],[0.3,\"#f1b6da\"],[0.4,\"#fde0ef\"],[0.5,\"#f7f7f7\"],[0.6,\"#e6f5d0\"],[0.7,\"#b8e186\"],[0.8,\"#7fbc41\"],[0.9,\"#4d9221\"],[1,\"#276419\"]],\"sequential\":[[0.0,\"#0d0887\"],[0.1111111111111111,\"#46039f\"],[0.2222222222222222,\"#7201a8\"],[0.3333333333333333,\"#9c179e\"],[0.4444444444444444,\"#bd3786\"],[0.5555555555555556,\"#d8576b\"],[0.6666666666666666,\"#ed7953\"],[0.7777777777777778,\"#fb9f3a\"],[0.8888888888888888,\"#fdca26\"],[1.0,\"#f0f921\"]],\"sequentialminus\":[[0.0,\"#0d0887\"],[0.1111111111111111,\"#46039f\"],[0.2222222222222222,\"#7201a8\"],[0.3333333333333333,\"#9c179e\"],[0.4444444444444444,\"#bd3786\"],[0.5555555555555556,\"#d8576b\"],[0.6666666666666666,\"#ed7953\"],[0.7777777777777778,\"#fb9f3a\"],[0.8888888888888888,\"#fdca26\"],[1.0,\"#f0f921\"]]},\"colorway\":[\"#636efa\",\"#EF553B\",\"#00cc96\",\"#ab63fa\",\"#FFA15A\",\"#19d3f3\",\"#FF6692\",\"#B6E880\",\"#FF97FF\",\"#FECB52\"],\"font\":{\"color\":\"#2a3f5f\"},\"geo\":{\"bgcolor\":\"white\",\"lakecolor\":\"white\",\"landcolor\":\"white\",\"showlakes\":true,\"showland\":true,\"subunitcolor\":\"#C8D4E3\"},\"hoverlabel\":{\"align\":\"left\"},\"hovermode\":\"closest\",\"mapbox\":{\"style\":\"light\"},\"paper_bgcolor\":\"white\",\"plot_bgcolor\":\"white\",\"polar\":{\"angularaxis\":{\"gridcolor\":\"#EBF0F8\",\"linecolor\":\"#EBF0F8\",\"ticks\":\"\"},\"bgcolor\":\"white\",\"radialaxis\":{\"gridcolor\":\"#EBF0F8\",\"linecolor\":\"#EBF0F8\",\"ticks\":\"\"}},\"scene\":{\"xaxis\":{\"backgroundcolor\":\"white\",\"gridcolor\":\"#DFE8F3\",\"gridwidth\":2,\"linecolor\":\"#EBF0F8\",\"showbackground\":true,\"ticks\":\"\",\"zerolinecolor\":\"#EBF0F8\"},\"yaxis\":{\"backgroundcolor\":\"white\",\"gridcolor\":\"#DFE8F3\",\"gridwidth\":2,\"linecolor\":\"#EBF0F8\",\"showbackground\":true,\"ticks\":\"\",\"zerolinecolor\":\"#EBF0F8\"},\"zaxis\":{\"backgroundcolor\":\"white\",\"gridcolor\":\"#DFE8F3\",\"gridwidth\":2,\"linecolor\":\"#EBF0F8\",\"showbackground\":true,\"ticks\":\"\",\"zerolinecolor\":\"#EBF0F8\"}},\"shapedefaults\":{\"line\":{\"color\":\"#2a3f5f\"}},\"ternary\":{\"aaxis\":{\"gridcolor\":\"#DFE8F3\",\"linecolor\":\"#A2B1C6\",\"ticks\":\"\"},\"baxis\":{\"gridcolor\":\"#DFE8F3\",\"linecolor\":\"#A2B1C6\",\"ticks\":\"\"},\"bgcolor\":\"white\",\"caxis\":{\"gridcolor\":\"#DFE8F3\",\"linecolor\":\"#A2B1C6\",\"ticks\":\"\"}},\"title\":{\"x\":0.05},\"xaxis\":{\"automargin\":true,\"gridcolor\":\"#EBF0F8\",\"linecolor\":\"#EBF0F8\",\"ticks\":\"\",\"title\":{\"standoff\":15},\"zerolinecolor\":\"#EBF0F8\",\"zerolinewidth\":2},\"yaxis\":{\"automargin\":true,\"gridcolor\":\"#EBF0F8\",\"linecolor\":\"#EBF0F8\",\"ticks\":\"\",\"title\":{\"standoff\":15},\"zerolinecolor\":\"#EBF0F8\",\"zerolinewidth\":2}}},\"title\":{\"text\":\"Time Series of OZD for France\"},\"xaxis\":{\"title\":{\"text\":\"Year\"}},\"yaxis\":{\"title\":{\"text\":\"OZD\"}},\"height\":500,\"width\":800},                        {\"responsive\": true}                    ).then(function(){\n",
       "                            \n",
       "var gd = document.getElementById('2579c0f7-d6b5-43c9-a42c-a57471c788d5');\n",
       "var x = new MutationObserver(function (mutations, observer) {{\n",
       "        var display = window.getComputedStyle(gd).display;\n",
       "        if (!display || display === 'none') {{\n",
       "            console.log([gd, 'removed!']);\n",
       "            Plotly.purge(gd);\n",
       "            observer.disconnect();\n",
       "        }}\n",
       "}});\n",
       "\n",
       "// Listen for the removal of the full notebook cells\n",
       "var notebookContainer = gd.closest('#notebook-container');\n",
       "if (notebookContainer) {{\n",
       "    x.observe(notebookContainer, {childList: true});\n",
       "}}\n",
       "\n",
       "// Listen for the clearing of the current output cell\n",
       "var outputEl = gd.closest('.output');\n",
       "if (outputEl) {{\n",
       "    x.observe(outputEl, {childList: true});\n",
       "}}\n",
       "\n",
       "                        })                };                });            </script>        </div>"
      ]
     },
     "metadata": {},
     "output_type": "display_data"
    }
   ],
   "source": [
    "import pandas as pd\n",
    "import numpy as np\n",
    "import plotly.graph_objects as go\n",
    "\n",
    "class TimeSeriesPlotter:\n",
    "    def __init__(self, symbol, file_path=None):\n",
    "        \"\"\"\n",
    "        Initialize the class with a symbol and optional file path.\n",
    "        \"\"\"\n",
    "        self.symbol = symbol\n",
    "        self.file_name = f\"{symbol}_ind.csv\" if file_path is None else file_path\n",
    "        self.data = None\n",
    "        self.years = []\n",
    "\n",
    "    def load_data(self):\n",
    "        \"\"\"\n",
    "        Load and preprocess the data.\n",
    "        \"\"\"\n",
    "        # Read the CSV file\n",
    "        self.data = pd.read_csv(self.file_name)\n",
    "\n",
    "        # Extract years from the column names\n",
    "        for col in self.data.columns:\n",
    "            if col.startswith(self.symbol + '.ind'):\n",
    "                year = col.split('.')[-1]\n",
    "                self.years.append(int(year))  # Convert to integer for plotting\n",
    "\n",
    "        # Replace invalid values with NaN\n",
    "        self.data.replace({0: np.nan, -8888: np.nan, -7777: np.nan, -9999: np.nan}, inplace=True)\n",
    "\n",
    "    def get_country_data(self, country_name):\n",
    "        \"\"\"\n",
    "        Extract data for a specific country.\n",
    "        \"\"\"\n",
    "        if self.data is None:\n",
    "            raise ValueError(\"Data not loaded. Call `load_data()` first.\")\n",
    "\n",
    "        # Filter the country data\n",
    "        country_data = self.data[self.data['country'] == country_name]\n",
    "\n",
    "        # Extract PMD values starting from the relevant columns\n",
    "        values = country_data.iloc[0, 3:]  # Adjust starting column index if needed\n",
    "        return values\n",
    "\n",
    "    def plot_time_series(self, country_name):\n",
    "        \"\"\"\n",
    "        Plot the time series for a given country using Plotly.\n",
    "        \"\"\"\n",
    "        if not self.years:\n",
    "            raise ValueError(\"Years not extracted. Call `load_data()` first.\")\n",
    "\n",
    "        # Get PMD values for the specified country\n",
    "        self.values = self.get_country_data(country_name)\n",
    "\n",
    "        # Create a time series plot with Plotly\n",
    "        fig = go.Figure()\n",
    "\n",
    "        fig.add_trace(\n",
    "            go.Scatter(\n",
    "                x=self.years,\n",
    "                y=self.values,\n",
    "                mode='lines+markers',\n",
    "                name=f'{country_name} PMD'\n",
    "            )\n",
    "        )\n",
    "\n",
    "        # Add titles and labels\n",
    "        fig.update_layout(\n",
    "            title=f\"Time Series of {self.symbol} for {country_name}\",\n",
    "            xaxis_title=\"Year\",\n",
    "            yaxis_title=f\"{self.symbol}\",\n",
    "            template=\"plotly_white\",\n",
    "            height=500,\n",
    "            width=800\n",
    "        )\n",
    "\n",
    "        fig.show()\n",
    "\n",
    "# Example Usage: just input the environmental symbol and the country you wish\n",
    "if __name__ == \"__main__\":\n",
    "    symbol = 'OZD'\n",
    "    plotter = TimeSeriesPlotter(symbol)\n",
    "\n",
    "    # Load data\n",
    "    plotter.load_data()\n",
    "\n",
    "    # Plot time series for Mauritius\n",
    "    plotter.plot_time_series('France')\n"
   ]
  },
  {
   "cell_type": "code",
   "execution_count": null,
   "id": "1fc3b288",
   "metadata": {},
   "outputs": [],
   "source": []
  }
 ],
 "metadata": {
  "kernelspec": {
   "display_name": "Python 3",
   "language": "python",
   "name": "python3"
  },
  "language_info": {
   "codemirror_mode": {
    "name": "ipython",
    "version": 3
   },
   "file_extension": ".py",
   "mimetype": "text/x-python",
   "name": "python",
   "nbconvert_exporter": "python",
   "pygments_lexer": "ipython3",
   "version": "3.8.8"
  }
 },
 "nbformat": 4,
 "nbformat_minor": 5
}
